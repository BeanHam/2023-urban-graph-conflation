{
 "cells": [
  {
   "cell_type": "code",
   "execution_count": 1,
   "id": "7b6df3a0",
   "metadata": {},
   "outputs": [],
   "source": [
    "import os\n",
    "import torch\n",
    "import numpy as np\n",
    "import networkx as nx\n",
    "import torch.nn as nn\n",
    "import torch.nn.functional as F\n",
    "from torch_geometric.nn import GCNConv\n",
    "\n",
    "from sklearn.model_selection import train_test_split\n",
    "from tqdm import tqdm\n",
    "from torch.utils.data import Dataset, DataLoader\n",
    "\n",
    "import warnings\n",
    "warnings.filterwarnings(\"ignore\")"
   ]
  },
  {
   "cell_type": "code",
   "execution_count": 2,
   "id": "24d88696",
   "metadata": {},
   "outputs": [],
   "source": [
    "class GraphDataset(Dataset):\n",
    "    def __init__(self, \n",
    "                 graph_dir, \n",
    "                 graph_files):\n",
    "        \n",
    "        self.graph_dir = graph_dir\n",
    "        self.graph_files = graph_files        \n",
    "    \n",
    "    def __len__(self):\n",
    "        return len(self.graph_files)\n",
    "\n",
    "    def __getitem__(self, idx):\n",
    "        \n",
    "        # single graph\n",
    "        file = self.graph_files[idx]\n",
    "        \n",
    "        # graph paths\n",
    "        graph_gt_path = os.path.join(self.graph_dir, 'original', file)\n",
    "        graph_del_path = os.path.join(self.graph_dir, 'deletion', file)\n",
    "        graph_ins_path = os.path.join(self.graph_dir, 'insertion', file)\n",
    "        \n",
    "        # ground truth adj\n",
    "        graph_gt = torch.from_numpy(nx.to_numpy_array(nx.read_gpickle(graph_gt_path))).float()\n",
    "        \n",
    "        # deletion graph embedding\n",
    "        graph_del = nx.read_gpickle(graph_del_path)\n",
    "        graph_ins = nx.read_gpickle(graph_ins_path)\n",
    "        graph_comb = nx.compose(graph_ins, graph_del)\n",
    "        \n",
    "        edge_index = np.array(graph_comb.edges()).T\n",
    "        x = torch.ones(len(graph_comb),1)\n",
    "        \n",
    "        return graph_gt, edge_index, x"
   ]
  },
  {
   "cell_type": "code",
   "execution_count": 3,
   "id": "ce8f0669",
   "metadata": {},
   "outputs": [],
   "source": [
    "class GCN(torch.nn.Module):\n",
    "    def __init__(self):\n",
    "        super().__init__()\n",
    "        self.conv1 = GCNConv(1, 32)\n",
    "        self.conv2 = GCNConv(32, 64)\n",
    "\n",
    "    def forward(self, edge_index, x):\n",
    "\n",
    "        x = self.conv1(x, edge_index)\n",
    "        x = F.leaky_relu(x)\n",
    "        x = self.conv2(x, edge_index)\n",
    "        z = F.leaky_relu(x)\n",
    "        \n",
    "        return z"
   ]
  },
  {
   "cell_type": "code",
   "execution_count": 4,
   "id": "ca5d388e",
   "metadata": {},
   "outputs": [],
   "source": [
    "# ---------------------\n",
    "# Early Stop Function\n",
    "# ---------------------\n",
    "class EarlyStopping():\n",
    "    def __init__(self, \n",
    "                 tolerance=5):\n",
    "\n",
    "        self.tolerance = tolerance\n",
    "        self.loss_min = np.inf\n",
    "        self.counter = 0\n",
    "        self.early_stop = False\n",
    "        self.save_model = False\n",
    "        \n",
    "    def __call__(self, loss):\n",
    "        if loss > self.loss_min:\n",
    "            self.counter +=1\n",
    "            self.save_model = False\n",
    "            if self.counter >= self.tolerance:  \n",
    "                self.early_stop = True\n",
    "        else:\n",
    "            self.save_model = True\n",
    "            self.loss_min = loss\n",
    "            self.counter = 0   "
   ]
  },
  {
   "cell_type": "code",
   "execution_count": 5,
   "id": "cbbc89e9",
   "metadata": {},
   "outputs": [],
   "source": [
    "# parameters\n",
    "lr = 1e-4\n",
    "epochs = 50\n",
    "batch_size = 1\n",
    "pos_weights = 28\n",
    "device = torch.device(\"cuda\" if torch.cuda.is_available() else \"cpu\")\n",
    "model = GCN().to(device)\n",
    "optimizer = torch.optim.Adam(model.parameters(), lr=lr)\n",
    "criterion= nn.BCEWithLogitsLoss(pos_weight=torch.tensor(pos_weights))\n",
    "es = EarlyStopping()\n",
    "\n",
    "# load files\n",
    "train_files = os.listdir('../graph-data/seattle-graphs/original/')\n",
    "test_files = os.listdir('../graph-data/west-seattle-graphs/original/')\n",
    "train_files, val_files = train_test_split(train_files, test_size=0.1, random_state=42)\n",
    "\n",
    "# make datasets\n",
    "train_data = GraphDataset('../graph-data/seattle-graphs/', train_files)\n",
    "val_data = GraphDataset('../graph-data/seattle-graphs/', val_files)\n",
    "test_data = GraphDataset('../graph-data/west-seattle-graphs/', test_files)\n",
    "\n",
    "# data loader\n",
    "train_dataloader = DataLoader(train_data, batch_size=batch_size, shuffle=True)\n",
    "val_dataloader = DataLoader(val_data, batch_size=batch_size, shuffle=True)\n",
    "test_dataloader = DataLoader(test_data, batch_size=batch_size, shuffle=True)"
   ]
  },
  {
   "cell_type": "code",
   "execution_count": 6,
   "id": "24cd0bf9",
   "metadata": {
    "scrolled": true
   },
   "outputs": [
    {
     "name": "stderr",
     "output_type": "stream",
     "text": [
      "100%|██████████████████████████████████████| 7760/7760 [00:17<00:00, 442.21it/s]\n"
     ]
    },
    {
     "name": "stdout",
     "output_type": "stream",
     "text": [
      "Validation Loss: 2.0152862603805293\n"
     ]
    },
    {
     "name": "stderr",
     "output_type": "stream",
     "text": [
      "100%|██████████████████████████████████████| 7760/7760 [00:18<00:00, 412.80it/s]\n"
     ]
    },
    {
     "name": "stdout",
     "output_type": "stream",
     "text": [
      "Validation Loss: 2.0151730107266546\n"
     ]
    },
    {
     "name": "stderr",
     "output_type": "stream",
     "text": [
      "100%|██████████████████████████████████████| 7760/7760 [00:17<00:00, 437.68it/s]\n"
     ]
    },
    {
     "name": "stdout",
     "output_type": "stream",
     "text": [
      "Validation Loss: 2.014510720933713\n"
     ]
    },
    {
     "name": "stderr",
     "output_type": "stream",
     "text": [
      "100%|██████████████████████████████████████| 7760/7760 [00:17<00:00, 439.39it/s]\n"
     ]
    },
    {
     "name": "stdout",
     "output_type": "stream",
     "text": [
      "Validation Loss: 2.0142975980685733\n"
     ]
    },
    {
     "name": "stderr",
     "output_type": "stream",
     "text": [
      "100%|██████████████████████████████████████| 7760/7760 [00:19<00:00, 403.08it/s]\n"
     ]
    },
    {
     "name": "stdout",
     "output_type": "stream",
     "text": [
      "Validation Loss: 2.0144244045675284\n"
     ]
    },
    {
     "name": "stderr",
     "output_type": "stream",
     "text": [
      "100%|██████████████████████████████████████| 7760/7760 [00:17<00:00, 454.99it/s]\n"
     ]
    },
    {
     "name": "stdout",
     "output_type": "stream",
     "text": [
      "Validation Loss: 2.01333906172601\n"
     ]
    },
    {
     "name": "stderr",
     "output_type": "stream",
     "text": [
      "100%|██████████████████████████████████████| 7760/7760 [00:19<00:00, 408.40it/s]\n"
     ]
    },
    {
     "name": "stdout",
     "output_type": "stream",
     "text": [
      "Validation Loss: 2.013923622089355\n"
     ]
    },
    {
     "name": "stderr",
     "output_type": "stream",
     "text": [
      "100%|██████████████████████████████████████| 7760/7760 [00:16<00:00, 458.20it/s]\n"
     ]
    },
    {
     "name": "stdout",
     "output_type": "stream",
     "text": [
      "Validation Loss: 2.0128204406758172\n"
     ]
    },
    {
     "name": "stderr",
     "output_type": "stream",
     "text": [
      "100%|██████████████████████████████████████| 7760/7760 [00:16<00:00, 475.50it/s]\n"
     ]
    },
    {
     "name": "stdout",
     "output_type": "stream",
     "text": [
      "Validation Loss: 2.0129279163455633\n"
     ]
    },
    {
     "name": "stderr",
     "output_type": "stream",
     "text": [
      "100%|██████████████████████████████████████| 7760/7760 [00:16<00:00, 469.45it/s]\n"
     ]
    },
    {
     "name": "stdout",
     "output_type": "stream",
     "text": [
      "Validation Loss: 2.01233607786141\n"
     ]
    },
    {
     "name": "stderr",
     "output_type": "stream",
     "text": [
      "100%|██████████████████████████████████████| 7760/7760 [00:16<00:00, 470.54it/s]\n"
     ]
    },
    {
     "name": "stdout",
     "output_type": "stream",
     "text": [
      "Validation Loss: 2.01347019788426\n"
     ]
    },
    {
     "name": "stderr",
     "output_type": "stream",
     "text": [
      "100%|██████████████████████████████████████| 7760/7760 [00:16<00:00, 469.97it/s]\n"
     ]
    },
    {
     "name": "stdout",
     "output_type": "stream",
     "text": [
      "Validation Loss: 2.0113153438302898\n"
     ]
    },
    {
     "name": "stderr",
     "output_type": "stream",
     "text": [
      "100%|██████████████████████████████████████| 7760/7760 [00:17<00:00, 449.92it/s]\n"
     ]
    },
    {
     "name": "stdout",
     "output_type": "stream",
     "text": [
      "Validation Loss: 2.010896736196958\n"
     ]
    },
    {
     "name": "stderr",
     "output_type": "stream",
     "text": [
      "100%|██████████████████████████████████████| 7760/7760 [00:23<00:00, 325.86it/s]\n"
     ]
    },
    {
     "name": "stdout",
     "output_type": "stream",
     "text": [
      "Validation Loss: 2.0112179135115924\n"
     ]
    },
    {
     "name": "stderr",
     "output_type": "stream",
     "text": [
      "100%|██████████████████████████████████████| 7760/7760 [00:19<00:00, 403.53it/s]\n"
     ]
    },
    {
     "name": "stdout",
     "output_type": "stream",
     "text": [
      "Validation Loss: 2.009974554819967\n"
     ]
    },
    {
     "name": "stderr",
     "output_type": "stream",
     "text": [
      "100%|██████████████████████████████████████| 7760/7760 [00:18<00:00, 425.44it/s]\n"
     ]
    },
    {
     "name": "stdout",
     "output_type": "stream",
     "text": [
      "Validation Loss: 2.014510880201744\n"
     ]
    },
    {
     "name": "stderr",
     "output_type": "stream",
     "text": [
      "100%|██████████████████████████████████████| 7760/7760 [00:20<00:00, 377.43it/s]\n"
     ]
    },
    {
     "name": "stdout",
     "output_type": "stream",
     "text": [
      "Validation Loss: 2.0089260306584875\n"
     ]
    },
    {
     "name": "stderr",
     "output_type": "stream",
     "text": [
      "100%|██████████████████████████████████████| 7760/7760 [00:17<00:00, 440.05it/s]\n"
     ]
    },
    {
     "name": "stdout",
     "output_type": "stream",
     "text": [
      "Validation Loss: 2.00860557205293\n"
     ]
    },
    {
     "name": "stderr",
     "output_type": "stream",
     "text": [
      "100%|██████████████████████████████████████| 7760/7760 [00:18<00:00, 422.78it/s]\n"
     ]
    },
    {
     "name": "stdout",
     "output_type": "stream",
     "text": [
      "Validation Loss: 2.0095339115635684\n"
     ]
    },
    {
     "name": "stderr",
     "output_type": "stream",
     "text": [
      "100%|██████████████████████████████████████| 7760/7760 [00:18<00:00, 427.54it/s]\n"
     ]
    },
    {
     "name": "stdout",
     "output_type": "stream",
     "text": [
      "Validation Loss: 2.0088432977539363\n"
     ]
    },
    {
     "name": "stderr",
     "output_type": "stream",
     "text": [
      "100%|██████████████████████████████████████| 7760/7760 [00:16<00:00, 457.46it/s]\n"
     ]
    },
    {
     "name": "stdout",
     "output_type": "stream",
     "text": [
      "Validation Loss: 2.007375747276209\n"
     ]
    },
    {
     "name": "stderr",
     "output_type": "stream",
     "text": [
      "100%|██████████████████████████████████████| 7760/7760 [00:17<00:00, 432.27it/s]\n"
     ]
    },
    {
     "name": "stdout",
     "output_type": "stream",
     "text": [
      "Validation Loss: 2.008675467512146\n"
     ]
    },
    {
     "name": "stderr",
     "output_type": "stream",
     "text": [
      "100%|██████████████████████████████████████| 7760/7760 [00:18<00:00, 415.00it/s]\n"
     ]
    },
    {
     "name": "stdout",
     "output_type": "stream",
     "text": [
      "Validation Loss: 2.0067730121236824\n"
     ]
    },
    {
     "name": "stderr",
     "output_type": "stream",
     "text": [
      "100%|██████████████████████████████████████| 7760/7760 [00:18<00:00, 411.36it/s]\n"
     ]
    },
    {
     "name": "stdout",
     "output_type": "stream",
     "text": [
      "Validation Loss: 2.010575214239012\n"
     ]
    },
    {
     "name": "stderr",
     "output_type": "stream",
     "text": [
      "100%|██████████████████████████████████████| 7760/7760 [00:19<00:00, 401.86it/s]\n"
     ]
    },
    {
     "name": "stdout",
     "output_type": "stream",
     "text": [
      "Validation Loss: 2.0074469758627176\n"
     ]
    },
    {
     "name": "stderr",
     "output_type": "stream",
     "text": [
      "100%|██████████████████████████████████████| 7760/7760 [00:19<00:00, 389.64it/s]\n"
     ]
    },
    {
     "name": "stdout",
     "output_type": "stream",
     "text": [
      "Validation Loss: 2.008296022685903\n"
     ]
    },
    {
     "name": "stderr",
     "output_type": "stream",
     "text": [
      "100%|██████████████████████████████████████| 7760/7760 [00:17<00:00, 451.44it/s]\n"
     ]
    },
    {
     "name": "stdout",
     "output_type": "stream",
     "text": [
      "Validation Loss: 2.0073094300295495\n"
     ]
    },
    {
     "name": "stderr",
     "output_type": "stream",
     "text": [
      "100%|██████████████████████████████████████| 7760/7760 [00:19<00:00, 395.58it/s]\n"
     ]
    },
    {
     "ename": "NameError",
     "evalue": "name 'epoch' is not defined",
     "output_type": "error",
     "traceback": [
      "\u001b[0;31m---------------------------------------------------------------------------\u001b[0m",
      "\u001b[0;31mNameError\u001b[0m                                 Traceback (most recent call last)",
      "Cell \u001b[0;32mIn[6], line 53\u001b[0m\n\u001b[1;32m     51\u001b[0m es(val_losses)            \n\u001b[1;32m     52\u001b[0m \u001b[38;5;28;01mif\u001b[39;00m es\u001b[38;5;241m.\u001b[39mearly_stop:\n\u001b[0;32m---> 53\u001b[0m     \u001b[38;5;28mprint\u001b[39m(\u001b[38;5;124mf\u001b[39m\u001b[38;5;124m\"\u001b[39m\u001b[38;5;124m Early Stopping at Epoch \u001b[39m\u001b[38;5;132;01m{\u001b[39;00mepoch\u001b[38;5;132;01m}\u001b[39;00m\u001b[38;5;124m\"\u001b[39m)\n\u001b[1;32m     54\u001b[0m     \u001b[38;5;28mprint\u001b[39m(\u001b[38;5;124mf\u001b[39m\u001b[38;5;124m'\u001b[39m\u001b[38;5;124m Validation Loss: \u001b[39m\u001b[38;5;132;01m{\u001b[39;00m\u001b[38;5;28mround\u001b[39m(val_losses\u001b[38;5;241m*\u001b[39m\u001b[38;5;241m1000\u001b[39m, \u001b[38;5;241m5\u001b[39m)\u001b[38;5;132;01m}\u001b[39;00m\u001b[38;5;124m'\u001b[39m)\n\u001b[1;32m     55\u001b[0m     \u001b[38;5;28;01mbreak\u001b[39;00m\n",
      "\u001b[0;31mNameError\u001b[0m: name 'epoch' is not defined"
     ]
    }
   ],
   "source": [
    "loss_tract = []\n",
    "for epoch in range(epochs):\n",
    "    \n",
    "    # ----------------\n",
    "    # Training\n",
    "    # ----------------\n",
    "    model.train()\n",
    "    for i, batch in enumerate(tqdm(train_dataloader)):\n",
    "        \n",
    "        # load data\n",
    "        graph_gt, edge_index, x = batch\n",
    "        graph_gt = graph_gt.squeeze_(0).to(device)\n",
    "        labels = graph_gt.flatten()\n",
    "        edge_index = edge_index.squeeze_(0).to(device)\n",
    "        x = x.squeeze_(0).to(device)\n",
    "        \n",
    "        # make prediction\n",
    "        optimizer.zero_grad()\n",
    "        out = model(edge_index, x)\n",
    "        logits = torch.matmul(out, out.T).flatten()\n",
    "        loss = criterion(logits, labels)\n",
    "        loss.backward() \n",
    "        optimizer.step()\n",
    "        \n",
    "    # ----------------\n",
    "    # Validation\n",
    "    # ----------------\n",
    "    model.eval()\n",
    "    val_losses = []\n",
    "    for i, batch in enumerate(val_dataloader): \n",
    "        \n",
    "        # load data\n",
    "        graph_gt, edge_index, x = batch\n",
    "        graph_gt = graph_gt.squeeze_(0).to(device)\n",
    "        labels = graph_gt.flatten()\n",
    "        edge_index = edge_index.squeeze_(0).to(device)\n",
    "        x = x.squeeze_(0).to(device)\n",
    "        \n",
    "        # make prediction\n",
    "        with torch.no_grad():\n",
    "            out = model(edge_index, x)\n",
    "        logits = torch.matmul(out, out.T).flatten()      \n",
    "        loss = criterion(logits, labels)\n",
    "        val_losses.append(loss.item())\n",
    "    val_losses = np.mean(val_losses) \n",
    "    loss_tract.append(val_losses)\n",
    "    \n",
    "    # ----------------\n",
    "    # Early Stop Check\n",
    "    # ----------------\n",
    "    es(val_losses)            \n",
    "    if es.early_stop:\n",
    "        print(f\" Early Stopping at Epoch {epoch}\")\n",
    "        print(f' Validation Loss: {round(val_losses*1000, 5)}')\n",
    "        break\n",
    "        \n",
    "    print(f'Validation Loss: {val_losses}')        "
   ]
  },
  {
   "cell_type": "code",
   "execution_count": 7,
   "id": "a4188a3b",
   "metadata": {},
   "outputs": [],
   "source": [
    "import matplotlib.pyplot as plt"
   ]
  },
  {
   "cell_type": "code",
   "execution_count": 8,
   "id": "e7f026aa",
   "metadata": {},
   "outputs": [
    {
     "data": {
      "image/png": "[encoded data removed]",
      "text/plain": [
       "<Figure size 640x480 with 1 Axes>"
      ]
     },
     "metadata": {},
     "output_type": "display_data"
    }
   ],
   "source": [
    "plt.plot(loss_tract)\n",
    "pass"
   ]
  },
  {
   "cell_type": "code",
   "execution_count": 9,
   "id": "7bbba4a3",
   "metadata": {},
   "outputs": [
    {
     "name": "stderr",
     "output_type": "stream",
     "text": [
      "100%|████████████████████████████████████████| 863/863 [00:01<00:00, 603.36it/s]\n"
     ]
    }
   ],
   "source": [
    "acc = []\n",
    "acc_gt = []\n",
    "for i, batch in enumerate(tqdm(val_dataloader)):\n",
    "    \n",
    "    # load data\n",
    "    graph_gt, edge_index, x = batch\n",
    "    graph_gt = graph_gt.squeeze_(0).to(device)\n",
    "    labels = graph_gt.flatten()\n",
    "    edge_index = edge_index.squeeze_(0).to(device)\n",
    "    x = x.squeeze_(0).to(device)\n",
    "    \n",
    "    # make prediction\n",
    "    with torch.no_grad():\n",
    "        out = model(edge_index, x)\n",
    "    A = F.sigmoid(torch.matmul(out, out.T)).flatten()\n",
    "    acc.append(torch.mean(1.0*( 1.0*(A.detach().cpu()>0.5) == labels)).item())\n",
    "    acc_gt.append(1-torch.mean(labels).item())"
   ]
  },
  {
   "cell_type": "code",
   "execution_count": 10,
   "id": "c808bb80",
   "metadata": {},
   "outputs": [
    {
     "data": {
      "text/plain": [
       "(0.09965998529664835, 0.9003400147033517)"
      ]
     },
     "execution_count": 10,
     "metadata": {},
     "output_type": "execute_result"
    }
   ],
   "source": [
    "np.mean(acc), np.mean(acc_gt)"
   ]
  }
 ],
 "metadata": {
  "kernelspec": {
   "display_name": "Python 3 (ipykernel)",
   "language": "python",
   "name": "python3"
  },
  "language_info": {
   "codemirror_mode": {
    "name": "ipython",
    "version": 3
   },
   "file_extension": ".py",
   "mimetype": "text/x-python",
   "name": "python",
   "nbconvert_exporter": "python",
   "pygments_lexer": "ipython3",
   "version": "3.8.8"
  }
 },
 "nbformat": 4,
 "nbformat_minor": 5
}
