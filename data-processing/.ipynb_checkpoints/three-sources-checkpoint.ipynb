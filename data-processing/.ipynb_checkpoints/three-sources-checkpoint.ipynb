{
 "cells": [
  {
   "cell_type": "code",
   "execution_count": 1,
   "id": "eb0eeb8d",
   "metadata": {},
   "outputs": [],
   "source": [
    "import os\n",
    "import momepy\n",
    "import shutup\n",
    "import geojson\n",
    "import numpy as np\n",
    "import osmnx as ox\n",
    "import networkx as nx\n",
    "import geopandas as gpd\n",
    "from shapely import LineString\n",
    "from tqdm import tqdm\n",
    "from sklearn.metrics import pairwise_distances\n",
    "from sklearn.model_selection import train_test_split\n",
    "from collections import Counter\n",
    "import warnings\n",
    "warnings.filterwarnings(\"ignore\")\n",
    "shutup.please()"
   ]
  },
  {
   "cell_type": "code",
   "execution_count": 2,
   "id": "cd4eaecd",
   "metadata": {},
   "outputs": [],
   "source": [
    "def node_alignment(graphs, names):\n",
    "    \n",
    "    # ====================\n",
    "    # detect largest graph\n",
    "    # ====================    \n",
    "    large_index = np.argmax([len(G) for G in graphs])\n",
    "    other_index = set(range(len(graphs)))-{large_index}\n",
    "    G_large = graphs[large_index]\n",
    "    G_large_name = names[large_index]\n",
    "    G_other = [graphs[i] for i in other_index]\n",
    "    G_other_name = [names[i] for i in other_index]\n",
    "    \n",
    "    # ====================    \n",
    "    # large graph mapping\n",
    "    # ====================    \n",
    "    node_index = len(G_large.nodes())\n",
    "    G_mappings = {}\n",
    "    G_mappings[G_large_name] = {old_label:new_label for new_label, old_label in enumerate(G_large.nodes())}\n",
    "    \n",
    "    # ========================    \n",
    "    # other two graphs mapping\n",
    "    # ========================    \n",
    "    for g in range(len(G_other)):\n",
    "        G = G_other[g]\n",
    "        name = G_other_name[g]\n",
    "        \n",
    "        # calculate pairwise distances\n",
    "        dist = pairwise_distances(np.stack(G.nodes()), np.stack(G_large.nodes()))\n",
    "        index=np.argmin(dist, axis=1).tolist()\n",
    "        \n",
    "        # find repetitive values\n",
    "        rep_values = [item for item, count in Counter(index).items() if count > 1]\n",
    "        \n",
    "        # if no repetitive values, save mapping\n",
    "        if len(rep_values) == 0:\n",
    "            G_mappings[name] = {old_label:index[i] for i, old_label in enumerate(G.nodes())}    \n",
    "            \n",
    "        # if have repetitive values, check them\n",
    "        else:\n",
    "            for v in rep_values:\n",
    "                rep_index = [i for i, x in enumerate(index) if x==v]\n",
    "                d = [dist[r, v] for r in rep_index]\n",
    "                min_index = np.argmin(d)\n",
    "                other_index = set(range(len(d)))-{min_index}\n",
    "                for i in other_index:\n",
    "                    index[rep_index[i]] = node_index\n",
    "                    \n",
    "                    # add new nodes into the largest grapg mapping                    \n",
    "                    G_mappings[G_large_name][list(G.nodes())[rep_index[i]]] = node_index        \n",
    "                    node_index+=1\n",
    "            G_mappings[name] = {old_label:index[i] for i, old_label in enumerate(G.nodes())}\n",
    "\n",
    "    # ==========    \n",
    "    # new graphs\n",
    "    # ==========\n",
    "    new_graphs = []\n",
    "    for g in range(len(graphs)):\n",
    "        G = graphs[g]\n",
    "        name = names[g]\n",
    "        G = nx.relabel_nodes(G, G_mappings[name])\n",
    "        for i in set(range(node_index)) - set(G.nodes()):\n",
    "            G.add_node(i)    \n",
    "        \n",
    "        H = nx.Graph()\n",
    "        H.add_nodes_from(sorted(G.nodes(data=True)))\n",
    "        H.add_edges_from(G.edges(data=True))\n",
    "        new_graphs.append(H)\n",
    "      \n",
    "    # ==========    \n",
    "    # attributes\n",
    "    # ==========    \n",
    "    attributes = {}\n",
    "    for mapping in G_mappings:\n",
    "        attributes[mapping] = {v: k for k, v in G_mappings[mapping].items()}\n",
    "    for g in range(len(G_other)):\n",
    "        name = G_other_name[g]\n",
    "        for k in attributes[G_large_name]:\n",
    "            if k not in attributes[name]:\n",
    "                attributes[name][k] = attributes[G_large_name][k]\n",
    "    # sort attributes\n",
    "    for k in attributes:\n",
    "        attributes[k] = dict(sorted(attributes[k].items()))    \n",
    "    \n",
    "    # sanity check\n",
    "    assert len(attributes['G_osw']) == len(new_graphs[0])\n",
    "    assert len(attributes['G_osm']) == len(new_graphs[1])\n",
    "    assert len(attributes['G_sdot']) == len(new_graphs[2])    \n",
    "        \n",
    "    return new_graphs, attributes"
   ]
  },
  {
   "cell_type": "code",
   "execution_count": 3,
   "id": "f8b5dc9a",
   "metadata": {},
   "outputs": [
    {
     "name": "stdout",
     "output_type": "stream",
     "text": [
      "  -- Load City Blocks...\n",
      "  -- Load Seattle Department of Transportation Data...\n",
      "  -- Load Open SideWalk Data...\n"
     ]
    }
   ],
   "source": [
    "# =============\n",
    "# parameters\n",
    "# =============\n",
    "epsg=4326\n",
    "crs=4326\n",
    "data_path = '../../../data/2023-graph-conflation/'\n",
    "city_block_path = data_path+'city-blocks/2010_Census_Block_Seattle_-_Housing_Statistics.shp'\n",
    "osw_data_path = data_path+'osw.geojson'\n",
    "sdot_data_path = data_path+'/sdot/Street_Network_Database_SND.shp'\n",
    "west_seattle_tract = 100*np.array(\n",
    "    [96, 97.01, 97.02, 98, 99,105,106,107.01,107.02,108,112,113,114.01,114.02,115,116,120,121,264,265]\n",
    ")\n",
    "\n",
    "# =============\n",
    "# city blocks\n",
    "# =============\n",
    "print('  -- Load City Blocks...')\n",
    "seattle = gpd.read_file(city_block_path)\n",
    "seattle = seattle.to_crs(epsg=epsg)\n",
    "\n",
    "# =============\n",
    "# SDOT data\n",
    "# ============= \n",
    "print('  -- Load Seattle Department of Transportation Data...')    \n",
    "sdot = gpd.read_file(sdot_data_path)\n",
    "sdot = sdot.to_crs(crs)\n",
    "\n",
    "# =============\n",
    "# OSW data\n",
    "# =============\n",
    "print('  -- Load Open SideWalk Data...')\n",
    "with open(osw_data_path) as f: gj = geojson.load(f)\n",
    "osw = gj['features']\n",
    "osw = [f for f in osw if f['properties']['highway'] in ['residential', 'service']]\n",
    "osw = gpd.GeoDataFrame(\n",
    "    [LineString(osw[i]['geometry']['coordinates']) for i in range(len(osw))], \n",
    "    columns=['geometry'],\n",
    "    crs=crs\n",
    ")"
   ]
  },
  {
   "cell_type": "code",
   "execution_count": 50,
   "id": "cc7c8d8e",
   "metadata": {
    "scrolled": true
   },
   "outputs": [
    {
     "name": "stdout",
     "output_type": "stream",
     "text": [
      "6 6 10\n"
     ]
    }
   ],
   "source": [
    "tags = {\"highway\": [\"residential\", \"services\"]}\n",
    "names = ['G_osw', 'G_osm', 'G_sdot']\n",
    "i=9\n",
    "geom = seattle.iloc[[i]]\n",
    "osw_lines=gpd.sjoin(osw, geom)[['geometry']]\n",
    "sdot_lines=gpd.sjoin(sdot, geom)[['geometry']]\n",
    "osm_lines=ox.features_from_polygon(geom.geometry.values[0],tags)\n",
    "G_osw = momepy.gdf_to_nx(osw_lines, approach='primal',multigraph=True)\n",
    "G_sdot = momepy.gdf_to_nx(sdot_lines, approach='primal',multigraph=True)\n",
    "G_osm = momepy.gdf_to_nx(osm_lines, approach='primal',multigraph=True)\n",
    "print(len(G_osw), len(G_osm), len(G_sdot))"
   ]
  },
  {
   "cell_type": "code",
   "execution_count": 51,
   "id": "e74f0ac5",
   "metadata": {},
   "outputs": [
    {
     "data": {
      "image/png": "[encoded data removed]",
      "text/plain": [
       "<Figure size 600x600 with 6 Axes>"
      ]
     },
     "metadata": {},
     "output_type": "display_data"
    }
   ],
   "source": [
    "f, ax = plt.subplots(3, 2, figsize=(6, 6), sharex=True, sharey=True)\n",
    "for row in ax:\n",
    "    for col in row:\n",
    "        col.axis(\"off\")\n",
    "\n",
    "osw_lines.plot(color='blue', ax=ax[0,0])\n",
    "nx.draw(G_osw, {n:[n[0], n[1]] for n in list(G_osw.nodes)}, ax=ax[0,1], node_size=15)\n",
    "ax[0,0].set_title('OSW')\n",
    "ax[0,1].set_title('OSW Graph')\n",
    "\n",
    "osm_lines.plot(color='red', ax=ax[1,0])\n",
    "nx.draw(G_osm, {n:[n[0], n[1]] for n in list(G_osm.nodes)}, ax=ax[1,1], node_size=15)\n",
    "ax[1,0].set_title('OSM')\n",
    "ax[1,1].set_title('OSM Graph')\n",
    "\n",
    "sdot_lines.plot(color='green', ax=ax[2,0])\n",
    "nx.draw(G_sdot, {n:[n[0], n[1]] for n in list(G_sdot.nodes)}, ax=ax[2,1], node_size=15)\n",
    "ax[2,0].set_title('SDOT')\n",
    "ax[2,1].set_title('SDOT Graph')\n",
    "pass"
   ]
  },
  {
   "cell_type": "code",
   "execution_count": 52,
   "id": "76b9a6cf",
   "metadata": {},
   "outputs": [
    {
     "data": {
      "image/png": "[encoded data removed]",
      "text/plain": [
       "<Figure size 600x600 with 2 Axes>"
      ]
     },
     "metadata": {},
     "output_type": "display_data"
    }
   ],
   "source": [
    "f, ax = plt.subplots(1,2, figsize=(6, 6), sharex=True, sharey=True)\n",
    "\n",
    "osw_lines.plot(color='blue', ax=ax[0])\n",
    "osm_lines.plot(color='red', ax=ax[0])\n",
    "ax[0].set_title('SDOT')\n",
    "ax[0].set_title('SDOT Graph')\n",
    "\n",
    "osw_lines.plot(color='blue', ax=ax[1])\n",
    "sdot_lines.plot(color='green', ax=ax[1])\n",
    "ax[1].set_title('SDOT')\n",
    "ax[1].set_title('SDOT Graph')\n",
    "pass"
   ]
  },
  {
   "cell_type": "code",
   "execution_count": 112,
   "id": "56f94edd",
   "metadata": {},
   "outputs": [],
   "source": [
    "# ====================\n",
    "# detect largest graph\n",
    "# ====================\n",
    "graphs = [G_osw, G_osm, G_sdot]\n",
    "large_index = np.argmax([len(G) for G in graphs])\n",
    "other_index = set(range(len(graphs)))-{large_index}\n",
    "G_large = graphs[large_index]\n",
    "G_large_name = names[large_index]\n",
    "G_other = [graphs[i] for i in other_index]\n",
    "G_other_name = [names[i] for i in other_index]"
   ]
  },
  {
   "cell_type": "code",
   "execution_count": 113,
   "id": "f041f241",
   "metadata": {},
   "outputs": [],
   "source": [
    "# ====================    \n",
    "# large graph mapping\n",
    "# ====================    \n",
    "node_index = len(G_large.nodes())\n",
    "G_mappings = {}\n",
    "G_mappings[G_large_name] = {old_label:new_label for new_label, old_label in enumerate(G_large.nodes())}"
   ]
  },
  {
   "cell_type": "code",
   "execution_count": 114,
   "id": "9bc8b657",
   "metadata": {},
   "outputs": [
    {
     "data": {
      "text/plain": [
       "{(-122.37764268499996, 47.50641058400004): 0,\n",
       " (-122.37874249599997, 47.506420941000044): 1,\n",
       " (-122.37884107199994, 47.50462864600007): 2,\n",
       " (-122.37599929499999, 47.50639508900008): 3,\n",
       " (-122.38149730699996, 47.50823821400007): 4,\n",
       " (-122.38149128799995, 47.50734277000004): 5,\n",
       " (-122.37596609099995, 47.50729221100005): 6,\n",
       " (-122.37606570599996, 47.504600682000046): 7,\n",
       " (-122.38701855199997, 47.50739224000006): 8,\n",
       " (-122.38153821999998, 47.506319982000036): 9}"
      ]
     },
     "execution_count": 114,
     "metadata": {},
     "output_type": "execute_result"
    }
   ],
   "source": [
    "G_mappings['G_sdot']"
   ]
  },
  {
   "cell_type": "code",
   "execution_count": 115,
   "id": "87213fef",
   "metadata": {},
   "outputs": [],
   "source": [
    "g=1\n",
    "G = G_other[g]\n",
    "name = G_other_name[g]\n",
    "\n",
    "# calculate pairwise distances\n",
    "dist = pairwise_distances(np.stack(G.nodes()), np.stack(G_large.nodes()))\n",
    "index=np.argmin(dist, axis=1).tolist()\n",
    "\n",
    "# find repetitive values\n",
    "rep_values = [item for item, count in Counter(index).items() if count > 1]"
   ]
  },
  {
   "cell_type": "code",
   "execution_count": 116,
   "id": "f28b3d2a",
   "metadata": {},
   "outputs": [
    {
     "data": {
      "text/plain": [
       "10"
      ]
     },
     "execution_count": 116,
     "metadata": {},
     "output_type": "execute_result"
    }
   ],
   "source": [
    "node_index"
   ]
  },
  {
   "cell_type": "code",
   "execution_count": 117,
   "id": "bc6f2a62",
   "metadata": {},
   "outputs": [],
   "source": [
    "for i in range(dist.shape[0]):\n",
    "    for j in range(dist.shape[1]):\n",
    "        dist[i,j] = round(dist[i,j]*1000)"
   ]
  },
  {
   "cell_type": "code",
   "execution_count": 118,
   "id": "b693143d",
   "metadata": {},
   "outputs": [
    {
     "data": {
      "text/plain": [
       "array([[ 2.,  3.,  3.,  0.,  6.,  6.,  1.,  2., 11.,  6.],\n",
       "       [ 4.,  3.,  3.,  6.,  2.,  1.,  6.,  6.,  6.,  0.],\n",
       "       [ 1.,  0.,  2.,  3.,  3.,  3.,  3.,  3.,  8.,  3.],\n",
       "       [ 2.,  1.,  0.,  3.,  4.,  4.,  4.,  3.,  9.,  3.],\n",
       "       [ 3.,  2.,  3.,  4.,  2.,  1.,  4.,  5.,  7.,  2.],\n",
       "       [ 4.,  3.,  4.,  6.,  1.,  0.,  6.,  6.,  6.,  1.]])"
      ]
     },
     "execution_count": 118,
     "metadata": {},
     "output_type": "execute_result"
    }
   ],
   "source": [
    "dist"
   ]
  },
  {
   "cell_type": "code",
   "execution_count": 119,
   "id": "87973d58",
   "metadata": {},
   "outputs": [
    {
     "data": {
      "text/plain": [
       "[3, 9, 1, 2, 5, 5]"
      ]
     },
     "execution_count": 119,
     "metadata": {},
     "output_type": "execute_result"
    }
   ],
   "source": [
    "index"
   ]
  },
  {
   "cell_type": "code",
   "execution_count": 120,
   "id": "fdc33cbf",
   "metadata": {},
   "outputs": [
    {
     "data": {
      "text/plain": [
       "[5]"
      ]
     },
     "execution_count": 120,
     "metadata": {},
     "output_type": "execute_result"
    }
   ],
   "source": [
    "rep_values"
   ]
  },
  {
   "cell_type": "code",
   "execution_count": 121,
   "id": "5a0c3e07",
   "metadata": {},
   "outputs": [],
   "source": [
    "v=5\n",
    "rep_index = [i for i, x in enumerate(index) if x==v]\n",
    "d = [dist[r, v] for r in rep_index]\n",
    "min_index = np.argmin(d)\n",
    "other_index = set(range(len(d)))-{min_index}\n",
    "for i in other_index:\n",
    "    index[rep_index[i]] = node_index\n",
    "    \n",
    "    # add new nodes into the largest grapg mapping                    \n",
    "    G_mappings[G_large_name][list(G.nodes())[rep_index[i]]] = node_index        \n",
    "    node_index+=1"
   ]
  },
  {
   "cell_type": "code",
   "execution_count": 122,
   "id": "bf00fe10",
   "metadata": {},
   "outputs": [
    {
     "data": {
      "text/plain": [
       "([4, 5], 1, {0})"
      ]
     },
     "execution_count": 122,
     "metadata": {},
     "output_type": "execute_result"
    }
   ],
   "source": [
    "rep_index, min_index, other_index"
   ]
  },
  {
   "cell_type": "code",
   "execution_count": 124,
   "id": "14ea3386",
   "metadata": {},
   "outputs": [
    {
     "data": {
      "text/plain": [
       "{(-122.37764268499996, 47.50641058400004): 0,\n",
       " (-122.37874249599997, 47.506420941000044): 1,\n",
       " (-122.37884107199994, 47.50462864600007): 2,\n",
       " (-122.37599929499999, 47.50639508900008): 3,\n",
       " (-122.38149730699996, 47.50823821400007): 4,\n",
       " (-122.38149128799995, 47.50734277000004): 5,\n",
       " (-122.37596609099995, 47.50729221100005): 6,\n",
       " (-122.37606570599996, 47.504600682000046): 7,\n",
       " (-122.38701855199997, 47.50739224000006): 8,\n",
       " (-122.38153821999998, 47.506319982000036): 9,\n",
       " (-122.380155, 47.5073403): 10}"
      ]
     },
     "execution_count": 124,
     "metadata": {},
     "output_type": "execute_result"
    }
   ],
   "source": [
    "G_mappings['G_sdot']"
   ]
  },
  {
   "cell_type": "code",
   "execution_count": 125,
   "id": "ae835f6e",
   "metadata": {},
   "outputs": [],
   "source": [
    "G_mappings[name] = {old_label:index[i] for i, old_label in enumerate(G.nodes())}"
   ]
  },
  {
   "cell_type": "code",
   "execution_count": 127,
   "id": "03fdc910",
   "metadata": {},
   "outputs": [
    {
     "data": {
      "text/plain": [
       "{(-122.3760101, 47.5063898): 3,\n",
       " (-122.3815076, 47.5064504): 9,\n",
       " (-122.3787666, 47.5064212): 1,\n",
       " (-122.3788068, 47.5050163): 2,\n",
       " (-122.380155, 47.5073403): 10,\n",
       " (-122.3814936, 47.5073242): 5}"
      ]
     },
     "execution_count": 127,
     "metadata": {},
     "output_type": "execute_result"
    }
   ],
   "source": [
    "G_mappings['G_osm']"
   ]
  },
  {
   "cell_type": "code",
   "execution_count": 132,
   "id": "7c60127f",
   "metadata": {},
   "outputs": [
    {
     "data": {
      "text/plain": [
       "{(-122.37764268499996, 47.50641058400004): 0,\n",
       " (-122.37874249599997, 47.506420941000044): 1,\n",
       " (-122.37884107199994, 47.50462864600007): 2,\n",
       " (-122.37599929499999, 47.50639508900008): 3,\n",
       " (-122.38149730699996, 47.50823821400007): 4,\n",
       " (-122.38149128799995, 47.50734277000004): 5,\n",
       " (-122.37596609099995, 47.50729221100005): 6,\n",
       " (-122.37606570599996, 47.504600682000046): 7,\n",
       " (-122.38701855199997, 47.50739224000006): 8,\n",
       " (-122.38153821999998, 47.506319982000036): 9,\n",
       " (-122.380155, 47.5073403): 10}"
      ]
     },
     "execution_count": 132,
     "metadata": {},
     "output_type": "execute_result"
    }
   ],
   "source": [
    "G_mappings['G_sdot']"
   ]
  },
  {
   "cell_type": "code",
   "execution_count": 133,
   "id": "ee131b0d",
   "metadata": {},
   "outputs": [
    {
     "data": {
      "text/plain": [
       "NodeView((0, 1, 2, 3, 4, 5, 6, 7, 8, 9, 10))"
      ]
     },
     "execution_count": 133,
     "metadata": {},
     "output_type": "execute_result"
    }
   ],
   "source": [
    "G = nx.relabel_nodes(G_sdot, G_mappings['G_sdot'])\n",
    "for i in set(range(node_index)) - set(G.nodes()):\n",
    "    G.add_node(i) \n",
    "G.nodes()"
   ]
  },
  {
   "cell_type": "code",
   "execution_count": null,
   "id": "698d8f89",
   "metadata": {},
   "outputs": [],
   "source": [
    "    # ==========    \n",
    "    # new graphs\n",
    "    # ==========\n",
    "    new_graphs = []\n",
    "    for g in range(len(graphs)):\n",
    "        G = graphs[g]\n",
    "        name = names[g]\n",
    "        G = nx.relabel_nodes(G, G_mappings[name])\n",
    "        for i in set(range(node_index)) - set(G.nodes()):\n",
    "            G.add_node(i)    \n",
    "        \n",
    "        H = nx.Graph()\n",
    "        H.add_nodes_from(sorted(G.nodes(data=True)))\n",
    "        H.add_edges_from(G.edges(data=True))\n",
    "        new_graphs.append(H)"
   ]
  },
  {
   "cell_type": "code",
   "execution_count": null,
   "id": "b4acd29d",
   "metadata": {},
   "outputs": [],
   "source": []
  },
  {
   "cell_type": "code",
   "execution_count": null,
   "id": "13c73f0f",
   "metadata": {},
   "outputs": [],
   "source": []
  },
  {
   "cell_type": "code",
   "execution_count": null,
   "id": "1acf1d80",
   "metadata": {},
   "outputs": [],
   "source": []
  },
  {
   "cell_type": "code",
   "execution_count": null,
   "id": "fd782a4b",
   "metadata": {},
   "outputs": [],
   "source": []
  },
  {
   "cell_type": "code",
   "execution_count": null,
   "id": "f04ba12c",
   "metadata": {},
   "outputs": [],
   "source": []
  },
  {
   "cell_type": "code",
   "execution_count": null,
   "id": "7cd3b7f7",
   "metadata": {},
   "outputs": [],
   "source": [
    "# node alignment & attributes            \n",
    "new_graphs, attributes = node_alignment([G_osw, G_osm, G_sdot], names)\n",
    "G_osw, G_osm, G_sdot = new_graphs\n",
    "G_osw_a, G_osm_a, G_sdot_a = attributes['G_osw'],attributes['G_osm'], attributes['G_sdot']"
   ]
  },
  {
   "cell_type": "code",
   "execution_count": 33,
   "id": "6c007985",
   "metadata": {},
   "outputs": [
    {
     "data": {
      "image/png": "[encoded data removed]",
      "text/plain": [
       "<Figure size 1200x600 with 3 Axes>"
      ]
     },
     "metadata": {},
     "output_type": "display_data"
    }
   ],
   "source": [
    "f, ax = plt.subplots(1,3, figsize=(12, 6), sharex=True, sharey=True)\n",
    "nx.draw(new_graphs[0], pos=attributes[names[0]], ax=ax[0], node_size=15, with_labels=True)\n",
    "ax[0].set_title('OSW')\n",
    "ax[0].set_title('OSW Graph')\n",
    "\n",
    "nx.draw(new_graphs[1], pos=attributes[names[1]], ax=ax[1], node_size=15, with_labels=True)\n",
    "ax[1].set_title('OSM')\n",
    "ax[1].set_title('OSM Graph')\n",
    "\n",
    "nx.draw(new_graphs[2], pos=attributes[names[2]], ax=ax[2], node_size=15, with_labels=True)\n",
    "ax[2].set_title('SDOT')\n",
    "ax[2].set_title('SDOT Graph')\n",
    "pass"
   ]
  }
 ],
 "metadata": {
  "kernelspec": {
   "display_name": "Python 3 (ipykernel)",
   "language": "python",
   "name": "python3"
  },
  "language_info": {
   "codemirror_mode": {
    "name": "ipython",
    "version": 3
   },
   "file_extension": ".py",
   "mimetype": "text/x-python",
   "name": "python",
   "nbconvert_exporter": "python",
   "pygments_lexer": "ipython3",
   "version": "3.8.8"
  }
 },
 "nbformat": 4,
 "nbformat_minor": 5
}
