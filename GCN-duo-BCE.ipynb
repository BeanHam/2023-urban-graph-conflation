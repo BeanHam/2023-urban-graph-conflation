{
 "cells": [
  {
   "cell_type": "code",
   "execution_count": 1,
   "id": "21176085",
   "metadata": {},
   "outputs": [],
   "source": [
    "import os\n",
    "import torch\n",
    "import numpy as np\n",
    "import networkx as nx\n",
    "import torch.nn as nn\n",
    "import torch.nn.functional as F\n",
    "from torch_geometric.nn import GCNConv\n",
    "\n",
    "from sklearn.model_selection import train_test_split\n",
    "from tqdm import tqdm\n",
    "from torch.utils.data import Dataset, DataLoader\n",
    "\n",
    "import warnings\n",
    "warnings.filterwarnings(\"ignore\")"
   ]
  },
  {
   "cell_type": "code",
   "execution_count": 2,
   "id": "24d88696",
   "metadata": {},
   "outputs": [],
   "source": [
    "class GraphDataset(Dataset):\n",
    "    def __init__(self, \n",
    "                 graph_dir, \n",
    "                 graph_files):\n",
    "        \n",
    "        self.graph_dir = graph_dir\n",
    "        self.graph_files = graph_files        \n",
    "    \n",
    "    def __len__(self):\n",
    "        return len(self.graph_files)\n",
    "\n",
    "    def __getitem__(self, idx):\n",
    "        \n",
    "        # single graph\n",
    "        file = self.graph_files[idx]\n",
    "        \n",
    "        # graph paths\n",
    "        graph_gt_path = os.path.join(self.graph_dir, 'original', file)\n",
    "        graph_del_path = os.path.join(self.graph_dir, 'deletion', file)\n",
    "        graph_ins_path = os.path.join(self.graph_dir, 'insertion', file)\n",
    "        \n",
    "        # ground truth adj\n",
    "        graph_gt = torch.from_numpy(nx.to_numpy_array(nx.read_gpickle(graph_gt_path))).float()\n",
    "        \n",
    "        # deletion graph embedding\n",
    "        graph_del = nx.read_gpickle(graph_del_path)\n",
    "        graph_ins = nx.read_gpickle(graph_ins_path)        \n",
    "        graph_del_edge_index = np.array(graph_del.edges()).T\n",
    "        graph_ins_edge_index = np.array(graph_ins.edges()).T\n",
    "        x = torch.ones(len(graph_del),1)\n",
    "        \n",
    "        return graph_gt, graph_del_edge_index, graph_ins_edge_index, x"
   ]
  },
  {
   "cell_type": "code",
   "execution_count": 3,
   "id": "ce8f0669",
   "metadata": {},
   "outputs": [],
   "source": [
    "class GCN(torch.nn.Module):\n",
    "    def __init__(self):\n",
    "        super().__init__()\n",
    "        self.conv1 = GCNConv(1, 32)\n",
    "        self.conv2 = GCNConv(32, 64)\n",
    "\n",
    "    def forward(self, edge_index, x):\n",
    "\n",
    "        x = self.conv1(x, edge_index)\n",
    "        x = F.leaky_relu(x)\n",
    "        x = self.conv2(x, edge_index)\n",
    "        z = F.leaky_relu(x)\n",
    "\n",
    "        return z"
   ]
  },
  {
   "cell_type": "code",
   "execution_count": 4,
   "id": "830c513c",
   "metadata": {},
   "outputs": [],
   "source": [
    "# ---------------------\n",
    "# Early Stop Function\n",
    "# ---------------------\n",
    "class EarlyStopping():\n",
    "    def __init__(self, \n",
    "                 tolerance=5):\n",
    "\n",
    "        self.tolerance = tolerance\n",
    "        self.loss_min = np.inf\n",
    "        self.counter = 0\n",
    "        self.early_stop = False\n",
    "        self.save_model = False\n",
    "        \n",
    "    def __call__(self, loss):\n",
    "        if loss > self.loss_min:\n",
    "            self.counter +=1\n",
    "            self.save_model = False\n",
    "            if self.counter >= self.tolerance:  \n",
    "                self.early_stop = True\n",
    "        else:\n",
    "            self.save_model = True\n",
    "            self.loss_min = loss\n",
    "            self.counter = 0   "
   ]
  },
  {
   "cell_type": "code",
   "execution_count": 5,
   "id": "cbbc89e9",
   "metadata": {},
   "outputs": [],
   "source": [
    "# parameters\n",
    "lr = 1e-4\n",
    "epochs = 50\n",
    "batch_size = 1\n",
    "pos_weights = 28\n",
    "device = torch.device(\"cuda\" if torch.cuda.is_available() else \"cpu\")\n",
    "model_del = GCN().to(device)\n",
    "model_ins = GCN().to(device)\n",
    "optimizer = torch.optim.Adam(list(model_del.parameters()) + list(model_ins.parameters()), lr=lr)\n",
    "criterion= nn.BCEWithLogitsLoss(pos_weight=torch.tensor(pos_weights))\n",
    "es = EarlyStopping()\n",
    "\n",
    "# load files\n",
    "train_files = os.listdir('../graph-data/seattle-graphs/original/')\n",
    "test_files = os.listdir('../graph-data/west-seattle-graphs/original/')\n",
    "train_files, val_files = train_test_split(train_files, test_size=0.1, random_state=42)\n",
    "\n",
    "# make datasets\n",
    "train_data = GraphDataset('../graph-data/seattle-graphs/', train_files)\n",
    "val_data = GraphDataset('../graph-data/seattle-graphs/', val_files)\n",
    "test_data = GraphDataset('../graph-data/west-seattle-graphs/', test_files)\n",
    "\n",
    "# data loader\n",
    "train_dataloader = DataLoader(train_data, batch_size=batch_size, shuffle=True)\n",
    "val_dataloader = DataLoader(val_data, batch_size=batch_size, shuffle=True)\n",
    "test_dataloader = DataLoader(test_data, batch_size=batch_size, shuffle=True)"
   ]
  },
  {
   "cell_type": "code",
   "execution_count": 6,
   "id": "24cd0bf9",
   "metadata": {
    "scrolled": true
   },
   "outputs": [
    {
     "name": "stderr",
     "output_type": "stream",
     "text": [
      "100%|██████████████████████████████████████| 7760/7760 [00:21<00:00, 365.47it/s]\n"
     ]
    },
    {
     "name": "stdout",
     "output_type": "stream",
     "text": [
      "Validation Loss: 1.3068620809812534\n"
     ]
    },
    {
     "name": "stderr",
     "output_type": "stream",
     "text": [
      "100%|██████████████████████████████████████| 7760/7760 [00:21<00:00, 361.42it/s]\n"
     ]
    },
    {
     "name": "stdout",
     "output_type": "stream",
     "text": [
      "Validation Loss: 1.3037302321382083\n"
     ]
    },
    {
     "name": "stderr",
     "output_type": "stream",
     "text": [
      "100%|██████████████████████████████████████| 7760/7760 [00:20<00:00, 382.64it/s]\n"
     ]
    },
    {
     "name": "stdout",
     "output_type": "stream",
     "text": [
      "Validation Loss: 1.3007826531610234\n"
     ]
    },
    {
     "name": "stderr",
     "output_type": "stream",
     "text": [
      "100%|██████████████████████████████████████| 7760/7760 [00:19<00:00, 389.98it/s]\n"
     ]
    },
    {
     "name": "stdout",
     "output_type": "stream",
     "text": [
      "Validation Loss: 1.2959343355887183\n"
     ]
    },
    {
     "name": "stderr",
     "output_type": "stream",
     "text": [
      "100%|██████████████████████████████████████| 7760/7760 [00:20<00:00, 386.19it/s]\n"
     ]
    },
    {
     "name": "stdout",
     "output_type": "stream",
     "text": [
      "Validation Loss: 1.2947574224007916\n"
     ]
    },
    {
     "name": "stderr",
     "output_type": "stream",
     "text": [
      "100%|██████████████████████████████████████| 7760/7760 [00:19<00:00, 388.44it/s]\n"
     ]
    },
    {
     "name": "stdout",
     "output_type": "stream",
     "text": [
      "Validation Loss: 1.2926700062713092\n"
     ]
    },
    {
     "name": "stderr",
     "output_type": "stream",
     "text": [
      "100%|██████████████████████████████████████| 7760/7760 [00:20<00:00, 383.43it/s]\n"
     ]
    },
    {
     "name": "stdout",
     "output_type": "stream",
     "text": [
      "Validation Loss: 1.2919653654789178\n"
     ]
    },
    {
     "name": "stderr",
     "output_type": "stream",
     "text": [
      "100%|██████████████████████████████████████| 7760/7760 [00:20<00:00, 382.40it/s]\n"
     ]
    },
    {
     "name": "stdout",
     "output_type": "stream",
     "text": [
      "Validation Loss: 1.2920452580114918\n"
     ]
    },
    {
     "name": "stderr",
     "output_type": "stream",
     "text": [
      "100%|██████████████████████████████████████| 7760/7760 [00:20<00:00, 379.20it/s]\n"
     ]
    },
    {
     "name": "stdout",
     "output_type": "stream",
     "text": [
      "Validation Loss: 1.291955477531097\n"
     ]
    },
    {
     "name": "stderr",
     "output_type": "stream",
     "text": [
      "100%|██████████████████████████████████████| 7760/7760 [00:20<00:00, 380.88it/s]\n"
     ]
    },
    {
     "name": "stdout",
     "output_type": "stream",
     "text": [
      "Validation Loss: 1.2916342457918275\n"
     ]
    },
    {
     "name": "stderr",
     "output_type": "stream",
     "text": [
      "100%|██████████████████████████████████████| 7760/7760 [00:20<00:00, 383.81it/s]\n"
     ]
    },
    {
     "name": "stdout",
     "output_type": "stream",
     "text": [
      "Validation Loss: 1.2913934194060908\n"
     ]
    },
    {
     "name": "stderr",
     "output_type": "stream",
     "text": [
      "100%|██████████████████████████████████████| 7760/7760 [00:20<00:00, 387.84it/s]\n"
     ]
    },
    {
     "name": "stdout",
     "output_type": "stream",
     "text": [
      "Validation Loss: 1.2957409581607628\n"
     ]
    },
    {
     "name": "stderr",
     "output_type": "stream",
     "text": [
      "100%|██████████████████████████████████████| 7760/7760 [00:19<00:00, 392.28it/s]\n"
     ]
    },
    {
     "name": "stdout",
     "output_type": "stream",
     "text": [
      "Validation Loss: 1.29052366753166\n"
     ]
    },
    {
     "name": "stderr",
     "output_type": "stream",
     "text": [
      "100%|██████████████████████████████████████| 7760/7760 [00:20<00:00, 386.89it/s]\n"
     ]
    },
    {
     "name": "stdout",
     "output_type": "stream",
     "text": [
      "Validation Loss: 1.2908174910108847\n"
     ]
    },
    {
     "name": "stderr",
     "output_type": "stream",
     "text": [
      "100%|██████████████████████████████████████| 7760/7760 [00:20<00:00, 384.57it/s]\n"
     ]
    },
    {
     "name": "stdout",
     "output_type": "stream",
     "text": [
      "Validation Loss: 1.2904259587356417\n"
     ]
    },
    {
     "name": "stderr",
     "output_type": "stream",
     "text": [
      "100%|██████████████████████████████████████| 7760/7760 [00:20<00:00, 380.35it/s]\n"
     ]
    },
    {
     "name": "stdout",
     "output_type": "stream",
     "text": [
      "Validation Loss: 1.289735717541373\n"
     ]
    },
    {
     "name": "stderr",
     "output_type": "stream",
     "text": [
      "100%|██████████████████████████████████████| 7760/7760 [00:24<00:00, 318.95it/s]\n"
     ]
    },
    {
     "name": "stdout",
     "output_type": "stream",
     "text": [
      "Validation Loss: 1.2913974448952172\n"
     ]
    },
    {
     "name": "stderr",
     "output_type": "stream",
     "text": [
      "100%|██████████████████████████████████████| 7760/7760 [00:21<00:00, 361.38it/s]\n"
     ]
    },
    {
     "name": "stdout",
     "output_type": "stream",
     "text": [
      "Validation Loss: 1.289311826090962\n"
     ]
    },
    {
     "name": "stderr",
     "output_type": "stream",
     "text": [
      "100%|██████████████████████████████████████| 7760/7760 [00:22<00:00, 343.27it/s]\n"
     ]
    },
    {
     "name": "stdout",
     "output_type": "stream",
     "text": [
      "Validation Loss: 1.2918080185407284\n"
     ]
    },
    {
     "name": "stderr",
     "output_type": "stream",
     "text": [
      "100%|██████████████████████████████████████| 7760/7760 [00:28<00:00, 268.26it/s]\n"
     ]
    },
    {
     "name": "stdout",
     "output_type": "stream",
     "text": [
      "Validation Loss: 1.2888642635848264\n"
     ]
    },
    {
     "name": "stderr",
     "output_type": "stream",
     "text": [
      "100%|██████████████████████████████████████| 7760/7760 [00:23<00:00, 326.95it/s]\n"
     ]
    },
    {
     "name": "stdout",
     "output_type": "stream",
     "text": [
      "Validation Loss: 1.288903522532895\n"
     ]
    },
    {
     "name": "stderr",
     "output_type": "stream",
     "text": [
      "100%|██████████████████████████████████████| 7760/7760 [00:23<00:00, 331.36it/s]\n"
     ]
    },
    {
     "name": "stdout",
     "output_type": "stream",
     "text": [
      "Validation Loss: 1.2890235331354107\n"
     ]
    },
    {
     "name": "stderr",
     "output_type": "stream",
     "text": [
      "100%|██████████████████████████████████████| 7760/7760 [00:23<00:00, 331.29it/s]\n"
     ]
    },
    {
     "name": "stdout",
     "output_type": "stream",
     "text": [
      "Validation Loss: 1.288149331839861\n"
     ]
    },
    {
     "name": "stderr",
     "output_type": "stream",
     "text": [
      "100%|██████████████████████████████████████| 7760/7760 [00:23<00:00, 331.27it/s]\n"
     ]
    },
    {
     "name": "stdout",
     "output_type": "stream",
     "text": [
      "Validation Loss: 1.2904568112186596\n"
     ]
    },
    {
     "name": "stderr",
     "output_type": "stream",
     "text": [
      "100%|██████████████████████████████████████| 7760/7760 [00:23<00:00, 328.91it/s]\n"
     ]
    },
    {
     "name": "stdout",
     "output_type": "stream",
     "text": [
      "Validation Loss: 1.2880010102052124\n"
     ]
    },
    {
     "name": "stderr",
     "output_type": "stream",
     "text": [
      "100%|██████████████████████████████████████| 7760/7760 [00:23<00:00, 333.31it/s]\n"
     ]
    },
    {
     "name": "stdout",
     "output_type": "stream",
     "text": [
      "Validation Loss: 1.291124445123993\n"
     ]
    },
    {
     "name": "stderr",
     "output_type": "stream",
     "text": [
      "100%|██████████████████████████████████████| 7760/7760 [00:22<00:00, 339.23it/s]\n"
     ]
    },
    {
     "name": "stdout",
     "output_type": "stream",
     "text": [
      "Validation Loss: 1.2869972099710865\n"
     ]
    },
    {
     "name": "stderr",
     "output_type": "stream",
     "text": [
      "100%|██████████████████████████████████████| 7760/7760 [00:22<00:00, 340.85it/s]\n"
     ]
    },
    {
     "name": "stdout",
     "output_type": "stream",
     "text": [
      "Validation Loss: 1.2885169167921966\n"
     ]
    },
    {
     "name": "stderr",
     "output_type": "stream",
     "text": [
      "100%|██████████████████████████████████████| 7760/7760 [00:22<00:00, 341.97it/s]\n"
     ]
    },
    {
     "name": "stdout",
     "output_type": "stream",
     "text": [
      "Validation Loss: 1.2865199991615182\n"
     ]
    },
    {
     "name": "stderr",
     "output_type": "stream",
     "text": [
      "100%|██████████████████████████████████████| 7760/7760 [00:25<00:00, 300.04it/s]\n"
     ]
    },
    {
     "name": "stdout",
     "output_type": "stream",
     "text": [
      "Validation Loss: 1.2865115701806917\n"
     ]
    },
    {
     "name": "stderr",
     "output_type": "stream",
     "text": [
      "100%|██████████████████████████████████████| 7760/7760 [00:27<00:00, 282.87it/s]\n"
     ]
    },
    {
     "name": "stdout",
     "output_type": "stream",
     "text": [
      "Validation Loss: 1.2856700578542601\n"
     ]
    },
    {
     "name": "stderr",
     "output_type": "stream",
     "text": [
      "100%|██████████████████████████████████████| 7760/7760 [00:24<00:00, 317.04it/s]\n"
     ]
    },
    {
     "name": "stdout",
     "output_type": "stream",
     "text": [
      "Validation Loss: 1.2854840106925434\n"
     ]
    },
    {
     "name": "stderr",
     "output_type": "stream",
     "text": [
      "100%|██████████████████████████████████████| 7760/7760 [00:26<00:00, 290.79it/s]\n"
     ]
    },
    {
     "name": "stdout",
     "output_type": "stream",
     "text": [
      "Validation Loss: 1.2849175743542844\n"
     ]
    },
    {
     "name": "stderr",
     "output_type": "stream",
     "text": [
      "100%|██████████████████████████████████████| 7760/7760 [00:26<00:00, 295.82it/s]\n"
     ]
    },
    {
     "name": "stdout",
     "output_type": "stream",
     "text": [
      "Validation Loss: 1.2848040275059873\n"
     ]
    },
    {
     "name": "stderr",
     "output_type": "stream",
     "text": [
      "100%|██████████████████████████████████████| 7760/7760 [00:30<00:00, 252.79it/s]\n"
     ]
    },
    {
     "name": "stdout",
     "output_type": "stream",
     "text": [
      "Validation Loss: 1.2851834808274465\n"
     ]
    },
    {
     "name": "stderr",
     "output_type": "stream",
     "text": [
      "100%|██████████████████████████████████████| 7760/7760 [00:27<00:00, 277.46it/s]\n"
     ]
    },
    {
     "name": "stdout",
     "output_type": "stream",
     "text": [
      "Validation Loss: 1.2838167781625396\n"
     ]
    },
    {
     "name": "stderr",
     "output_type": "stream",
     "text": [
      "100%|██████████████████████████████████████| 7760/7760 [00:30<00:00, 256.55it/s]\n"
     ]
    },
    {
     "name": "stdout",
     "output_type": "stream",
     "text": [
      "Validation Loss: 1.290489987454022\n"
     ]
    },
    {
     "name": "stderr",
     "output_type": "stream",
     "text": [
      "100%|██████████████████████████████████████| 7760/7760 [00:26<00:00, 289.02it/s]\n"
     ]
    },
    {
     "name": "stdout",
     "output_type": "stream",
     "text": [
      "Validation Loss: 1.2830532063338322\n"
     ]
    },
    {
     "name": "stderr",
     "output_type": "stream",
     "text": [
      "100%|██████████████████████████████████████| 7760/7760 [00:26<00:00, 296.14it/s]\n"
     ]
    },
    {
     "name": "stdout",
     "output_type": "stream",
     "text": [
      "Validation Loss: 1.282792452588971\n"
     ]
    },
    {
     "name": "stderr",
     "output_type": "stream",
     "text": [
      "100%|██████████████████████████████████████| 7760/7760 [00:25<00:00, 307.45it/s]\n"
     ]
    },
    {
     "name": "stdout",
     "output_type": "stream",
     "text": [
      "Validation Loss: 1.2828680278942732\n"
     ]
    },
    {
     "name": "stderr",
     "output_type": "stream",
     "text": [
      "100%|██████████████████████████████████████| 7760/7760 [00:25<00:00, 309.54it/s]\n"
     ]
    },
    {
     "name": "stdout",
     "output_type": "stream",
     "text": [
      "Validation Loss: 1.2815080142104058\n"
     ]
    },
    {
     "name": "stderr",
     "output_type": "stream",
     "text": [
      "100%|██████████████████████████████████████| 7760/7760 [00:27<00:00, 278.01it/s]\n"
     ]
    },
    {
     "name": "stdout",
     "output_type": "stream",
     "text": [
      "Validation Loss: 1.2812122850401515\n"
     ]
    },
    {
     "name": "stderr",
     "output_type": "stream",
     "text": [
      "100%|██████████████████████████████████████| 7760/7760 [00:24<00:00, 319.52it/s]\n"
     ]
    },
    {
     "name": "stdout",
     "output_type": "stream",
     "text": [
      "Validation Loss: 1.2806267657534134\n"
     ]
    },
    {
     "name": "stderr",
     "output_type": "stream",
     "text": [
      "100%|██████████████████████████████████████| 7760/7760 [00:27<00:00, 281.46it/s]\n"
     ]
    },
    {
     "name": "stdout",
     "output_type": "stream",
     "text": [
      "Validation Loss: 1.283725295323762\n"
     ]
    },
    {
     "name": "stderr",
     "output_type": "stream",
     "text": [
      "100%|██████████████████████████████████████| 7760/7760 [00:25<00:00, 298.67it/s]\n"
     ]
    },
    {
     "name": "stdout",
     "output_type": "stream",
     "text": [
      "Validation Loss: 1.2818081153779013\n"
     ]
    },
    {
     "name": "stderr",
     "output_type": "stream",
     "text": [
      "100%|██████████████████████████████████████| 7760/7760 [00:25<00:00, 308.31it/s]\n"
     ]
    },
    {
     "name": "stdout",
     "output_type": "stream",
     "text": [
      "Validation Loss: 1.2808141431416171\n"
     ]
    },
    {
     "name": "stderr",
     "output_type": "stream",
     "text": [
      "100%|██████████████████████████████████████| 7760/7760 [00:26<00:00, 298.24it/s]\n"
     ]
    },
    {
     "name": "stdout",
     "output_type": "stream",
     "text": [
      "Validation Loss: 1.2787999271103294\n"
     ]
    },
    {
     "name": "stderr",
     "output_type": "stream",
     "text": [
      "100%|██████████████████████████████████████| 7760/7760 [00:24<00:00, 313.10it/s]\n"
     ]
    },
    {
     "name": "stdout",
     "output_type": "stream",
     "text": [
      "Validation Loss: 1.2789508324647418\n"
     ]
    },
    {
     "name": "stderr",
     "output_type": "stream",
     "text": [
      "100%|██████████████████████████████████████| 7760/7760 [00:27<00:00, 280.35it/s]\n"
     ]
    },
    {
     "name": "stdout",
     "output_type": "stream",
     "text": [
      "Validation Loss: 1.2822046983697877\n"
     ]
    },
    {
     "name": "stderr",
     "output_type": "stream",
     "text": [
      "100%|██████████████████████████████████████| 7760/7760 [00:25<00:00, 307.72it/s]\n"
     ]
    },
    {
     "name": "stdout",
     "output_type": "stream",
     "text": [
      "Validation Loss: 1.2776069719849428\n"
     ]
    }
   ],
   "source": [
    "loss_tract = []\n",
    "for e in range(epochs):\n",
    "    \n",
    "    # ----------------\n",
    "    # Training\n",
    "    # ----------------\n",
    "    model_del.train()\n",
    "    model_ins.train()    \n",
    "    for i, batch in enumerate(tqdm(train_dataloader)):\n",
    "        \n",
    "        # load data\n",
    "        graph_gt, graph_del_edge_index, graph_ins_edge_index, x = batch\n",
    "        graph_gt = graph_gt.squeeze_(0).to(device)\n",
    "        labels = graph_gt.flatten()\n",
    "        graph_del_edge_index = graph_del_edge_index.squeeze_(0).to(device)\n",
    "        graph_ins_edge_index = graph_ins_edge_index.squeeze_(0).to(device)    \n",
    "        x = x.squeeze_(0).to(device)\n",
    "        \n",
    "        # make prediction\n",
    "        optimizer.zero_grad() \n",
    "        out_del = model_del(graph_del_edge_index, x)\n",
    "        out_ins = model_ins(graph_ins_edge_index, x) \n",
    "        #logits = F.sigmoid(torch.matmul(out_del, out_ins.T)).flatten()\n",
    "        logits = torch.matmul(out_del, out_ins.T).flatten()\n",
    "        loss = criterion(logits, labels)\n",
    "        loss.backward() \n",
    "        optimizer.step()\n",
    "        \n",
    "    # ----------------\n",
    "    # Validation\n",
    "    # ----------------\n",
    "    model_del.eval()\n",
    "    model_ins.eval()\n",
    "    val_losses = []\n",
    "    for i, batch in enumerate(val_dataloader):\n",
    "        \n",
    "        # load data\n",
    "        graph_gt, graph_del_edge_index, graph_ins_edge_index, x = batch\n",
    "        graph_gt = graph_gt.squeeze_(0).to(device)\n",
    "        labels = graph_gt.flatten()\n",
    "        graph_del_edge_index = graph_del_edge_index.squeeze_(0).to(device)\n",
    "        graph_ins_edge_index = graph_ins_edge_index.squeeze_(0).to(device)    \n",
    "        x = x.squeeze_(0).to(device)\n",
    "        \n",
    "        # make prediction\n",
    "        with torch.no_grad():\n",
    "            out_del = model_del(graph_del_edge_index, x)\n",
    "            out_ins = model_ins(graph_ins_edge_index, x) \n",
    "        logits = torch.matmul(out_del, out_ins.T).flatten()\n",
    "        loss = criterion(logits, labels)\n",
    "        val_losses.append(loss.item())\n",
    "    val_losses = np.mean(val_losses) \n",
    "    loss_tract.append(val_losses)\n",
    "    \n",
    "    # ----------------\n",
    "    # Early Stop Check\n",
    "    # ----------------\n",
    "    es(val_losses)            \n",
    "    if es.early_stop:\n",
    "        print(f\" Early Stopping at Epoch {epoch}\")\n",
    "        print(f' Validation Loss: {round(val_losses*1000, 5)}')\n",
    "        break\n",
    "        \n",
    "    print(f'Validation Loss: {val_losses}')"
   ]
  },
  {
   "cell_type": "code",
   "execution_count": 8,
   "id": "640942a0",
   "metadata": {},
   "outputs": [],
   "source": [
    "import matplotlib.pyplot as plt"
   ]
  },
  {
   "cell_type": "code",
   "execution_count": 9,
   "id": "f766c0f9",
   "metadata": {},
   "outputs": [
    {
     "data": {
      "image/png": "[encoded data removed]",
      "text/plain": [
       "<Figure size 640x480 with 1 Axes>"
      ]
     },
     "metadata": {},
     "output_type": "display_data"
    }
   ],
   "source": [
    "plt.plot(loss_tract)\n",
    "pass"
   ]
  },
  {
   "cell_type": "code",
   "execution_count": 10,
   "id": "7bbba4a3",
   "metadata": {},
   "outputs": [
    {
     "name": "stderr",
     "output_type": "stream",
     "text": [
      "100%|████████████████████████████████████████| 863/863 [00:01<00:00, 485.85it/s]\n"
     ]
    }
   ],
   "source": [
    "acc = []\n",
    "acc_gt = []\n",
    "for i, batch in enumerate(tqdm(val_dataloader)):\n",
    "    \n",
    "    # load data\n",
    "    graph_gt, graph_del_edge_index, graph_ins_edge_index, x = batch\n",
    "    graph_gt = graph_gt.squeeze_(0).to(device)\n",
    "    labels = graph_gt.flatten()\n",
    "    graph_del_edge_index = graph_del_edge_index.squeeze_(0).to(device)\n",
    "    graph_ins_edge_index = graph_ins_edge_index.squeeze_(0).to(device)    \n",
    "    x = x.squeeze_(0).to(device)\n",
    "    \n",
    "    # make prediction\n",
    "    with torch.no_grad():\n",
    "        out_del = model_del(graph_del_edge_index, x)\n",
    "        out_ins = model_ins(graph_ins_edge_index, x) \n",
    "    A = F.sigmoid(torch.matmul(out_del, out_ins.T)).flatten()\n",
    "    acc.append(torch.mean(1.0*( 1.0*(A.detach().cpu()>0.5) == labels)).item())\n",
    "    acc_gt.append(1-torch.mean(labels).item())"
   ]
  },
  {
   "cell_type": "code",
   "execution_count": 23,
   "id": "b6c79d77",
   "metadata": {},
   "outputs": [
    {
     "data": {
      "text/plain": [
       "0.48687137558037547"
      ]
     },
     "execution_count": 23,
     "metadata": {},
     "output_type": "execute_result"
    }
   ],
   "source": [
    "np.mean(acc)"
   ]
  },
  {
   "cell_type": "code",
   "execution_count": 24,
   "id": "a6398abd",
   "metadata": {},
   "outputs": [
    {
     "data": {
      "text/plain": [
       "0.9003400147033517"
      ]
     },
     "execution_count": 24,
     "metadata": {},
     "output_type": "execute_result"
    }
   ],
   "source": [
    "np.mean(acc_gt)"
   ]
  }
 ],
 "metadata": {
  "kernelspec": {
   "display_name": "Python 3 (ipykernel)",
   "language": "python",
   "name": "python3"
  },
  "language_info": {
   "codemirror_mode": {
    "name": "ipython",
    "version": 3
   },
   "file_extension": ".py",
   "mimetype": "text/x-python",
   "name": "python",
   "nbconvert_exporter": "python",
   "pygments_lexer": "ipython3",
   "version": "3.9.13"
  }
 },
 "nbformat": 4,
 "nbformat_minor": 5
}
