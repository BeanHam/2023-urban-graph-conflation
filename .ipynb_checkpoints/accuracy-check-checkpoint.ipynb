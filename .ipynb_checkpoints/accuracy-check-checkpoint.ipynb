{
 "cells": [
  {
   "cell_type": "code",
   "execution_count": 1,
   "id": "4e1cfe66",
   "metadata": {},
   "outputs": [],
   "source": [
    "import os\n",
    "import torch\n",
    "import numpy as np\n",
    "import networkx as nx\n",
    "import torch.nn as nn\n",
    "import torch.nn.functional as F\n",
    "\n",
    "from tqdm import tqdm\n",
    "from sklearn.model_selection import train_test_split\n",
    "from torch.utils.data import DataLoader\n",
    "from utils import *\n",
    "from model import *"
   ]
  },
  {
   "cell_type": "code",
   "execution_count": 2,
   "id": "632c837d",
   "metadata": {},
   "outputs": [
    {
     "name": "stdout",
     "output_type": "stream",
     "text": [
      "Load Datasets...\n",
      "Load Model...\n"
     ]
    }
   ],
   "source": [
    "# ---------------------\n",
    "# parameters\n",
    "# ---------------------\n",
    "lr = 1e-4\n",
    "epochs = 200\n",
    "batch_size = 1\n",
    "pos_weights = 5\n",
    "\n",
    "# ---------------------\n",
    "# load data\n",
    "# ---------------------\n",
    "print('Load Datasets...')\n",
    "train_files = os.listdir('../graph-data/seattle-graphs/original/')\n",
    "test_files = os.listdir('../graph-data/west-seattle-graphs/original/')\n",
    "train_files, val_files = train_test_split(train_files, test_size=0.1, random_state=42)\n",
    "\n",
    "train_data = DuoGraphDataset('../graph-data/seattle-graphs/', train_files)\n",
    "val_data = DuoGraphDataset('../graph-data/seattle-graphs/', val_files)\n",
    "test_data = DuoGraphDataset('../graph-data/west-seattle-graphs/', test_files)\n",
    "    \n",
    "train_dataloader = DataLoader(train_data, batch_size=batch_size, shuffle=True)\n",
    "val_dataloader = DataLoader(val_data, batch_size=batch_size, shuffle=True)\n",
    "test_dataloader = DataLoader(test_data, batch_size=batch_size, shuffle=True)    \n",
    "\n",
    "# ---------------------\n",
    "#  models\n",
    "# ---------------------\n",
    "print('Load Model...')\n",
    "device = torch.device(\"cuda\" if torch.cuda.is_available() else \"cpu\")\n",
    "model_del = GCN().to(device)\n",
    "model_ins = GCN().to(device)\n",
    "model_del.load_state_dict(torch.load(f'model_states/DuoGraph_del_0.01'))\n",
    "model_ins.load_state_dict(torch.load(f'model_states/DuoGraph_ins_0.01'))\n",
    "model_del.eval()\n",
    "model_ins.eval()\n",
    "criterion= nn.BCEWithLogitsLoss(pos_weight=torch.tensor(pos_weights))"
   ]
  },
  {
   "cell_type": "markdown",
   "id": "2406619d",
   "metadata": {},
   "source": [
    "### Graph Level Accuracy"
   ]
  },
  {
   "cell_type": "code",
   "execution_count": 3,
   "id": "04a32585",
   "metadata": {},
   "outputs": [
    {
     "name": "stderr",
     "output_type": "stream",
     "text": [
      "100%|███████████████████████████████████████████████████████████████████████████████| 863/863 [00:06<00:00, 139.42it/s]\n"
     ]
    }
   ],
   "source": [
    "graph_acc = []\n",
    "for i, batch in enumerate(tqdm(val_dataloader)):\n",
    "    \n",
    "    # load data\n",
    "    graph_gt, graph_del_edge_index, graph_ins_edge_index, x = batch\n",
    "    graph_gt = graph_gt.squeeze_(0)\n",
    "    labels = graph_gt.flatten()\n",
    "    graph_del_edge_index = graph_del_edge_index.squeeze_(0).to(device)\n",
    "    graph_ins_edge_index = graph_ins_edge_index.squeeze_(0).to(device)    \n",
    "    x = x.squeeze_(0).to(device)\n",
    "    \n",
    "    # make prediction\n",
    "    with torch.no_grad():\n",
    "        out_del = model_del(graph_del_edge_index, x)\n",
    "        out_ins = model_ins(graph_ins_edge_index, x) \n",
    "    A = F.sigmoid(torch.matmul(out_del, out_ins.T)).flatten()\n",
    "    graph_acc.append(torch.mean(1.0*( 1.0*(A.detach().cpu()>0.5) == labels)).item())"
   ]
  },
  {
   "cell_type": "code",
   "execution_count": 4,
   "id": "d05a6c7f",
   "metadata": {},
   "outputs": [
    {
     "data": {
      "text/plain": [
       "0.848387392343541"
      ]
     },
     "execution_count": 4,
     "metadata": {},
     "output_type": "execute_result"
    }
   ],
   "source": [
    "np.mean(graph_acc)"
   ]
  },
  {
   "cell_type": "markdown",
   "id": "dadb0ed2",
   "metadata": {},
   "source": [
    "### Conflicted Edges Accuracy"
   ]
  },
  {
   "cell_type": "code",
   "execution_count": 5,
   "id": "ad742187",
   "metadata": {},
   "outputs": [
    {
     "name": "stderr",
     "output_type": "stream",
     "text": [
      "100%|███████████████████████████████████████████████████████████████████████████████| 863/863 [00:04<00:00, 177.17it/s]\n"
     ]
    }
   ],
   "source": [
    "edge_acc = []\n",
    "for i, batch in enumerate(tqdm(val_dataloader)):\n",
    "    \n",
    "    # load data\n",
    "    graph_gt, graph_del_edge_index, graph_ins_edge_index, x = batch\n",
    "    graph_gt = graph_gt.squeeze_(0)\n",
    "    graph_del_edge_index = graph_del_edge_index.squeeze_(0).to(device)\n",
    "    graph_ins_edge_index = graph_ins_edge_index.squeeze_(0).to(device)    \n",
    "    x = x.squeeze_(0).to(device)\n",
    "    \n",
    "    # extract conflicted edges\n",
    "    conflicted_edges = graph_ins_edge_index.T[~(graph_ins_edge_index.T[:, None] == graph_del_edge_index.T).all(-1).any(-1)]\n",
    "    conflicted_edges = conflicted_edges.repeat(2,1).detach().cpu()\n",
    "    conflicted_edges[int(len(conflicted_edges)/2):,[0,1]] = conflicted_edges[int(len(conflicted_edges)/2):,[1,0]]\n",
    "    conflicted_edges = list(zip(*conflicted_edges.T.numpy()))    \n",
    "    \n",
    "    # make prediction\n",
    "    with torch.no_grad():\n",
    "        out_del = model_del(graph_del_edge_index, x)\n",
    "        out_ins = model_ins(graph_ins_edge_index, x) \n",
    "    A = F.sigmoid(torch.matmul(out_del, out_ins.T))\n",
    "    A_pred = 1.0*(A.detach().cpu()>0.5)\n",
    "    edge_acc.append(np.mean([1.0*(A_pred[c]==graph_gt[c]).item() for c in conflicted_edges]))"
   ]
  },
  {
   "cell_type": "code",
   "execution_count": 6,
   "id": "17187143",
   "metadata": {},
   "outputs": [
    {
     "data": {
      "text/plain": [
       "0.5035410090117053"
      ]
     },
     "execution_count": 6,
     "metadata": {},
     "output_type": "execute_result"
    }
   ],
   "source": [
    "np.mean(edge_acc)"
   ]
  }
 ],
 "metadata": {
  "kernelspec": {
   "display_name": "Python 3 (ipykernel)",
   "language": "python",
   "name": "python3"
  },
  "language_info": {
   "codemirror_mode": {
    "name": "ipython",
    "version": 3
   },
   "file_extension": ".py",
   "mimetype": "text/x-python",
   "name": "python",
   "nbconvert_exporter": "python",
   "pygments_lexer": "ipython3",
   "version": "3.8.8"
  }
 },
 "nbformat": 4,
 "nbformat_minor": 5
}
