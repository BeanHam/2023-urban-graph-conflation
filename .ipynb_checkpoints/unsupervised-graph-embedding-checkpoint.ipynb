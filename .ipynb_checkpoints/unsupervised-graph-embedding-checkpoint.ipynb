{
 "cells": [
  {
   "cell_type": "code",
   "execution_count": 3,
   "id": "21176085",
   "metadata": {},
   "outputs": [],
   "source": [
    "import numpy as np\n",
    "import networkx as nx\n",
    "from karateclub import BoostNE\n",
    "from tqdm import tqdm\n",
    "import warnings\n",
    "warnings.filterwarnings(\"ignore\")"
   ]
  },
  {
   "cell_type": "code",
   "execution_count": 4,
   "id": "07e2857f",
   "metadata": {},
   "outputs": [],
   "source": [
    "import os\n",
    "files = os.listdir('../graph-data/seattle-graphs/original/')"
   ]
  },
  {
   "cell_type": "code",
   "execution_count": 12,
   "id": "5607bea8",
   "metadata": {
    "scrolled": true
   },
   "outputs": [
    {
     "name": "stderr",
     "output_type": "stream",
     "text": [
      "  0%|                                                  | 0/8623 [00:00<?, ?it/s]\n"
     ]
    }
   ],
   "source": [
    "embeddings = []\n",
    "for file in tqdm(files):\n",
    "    G = nx.read_gpickle('../graph-data/seattle-graphs/original/'+file)\n",
    "    model = BoostNE(dimensions=16, iterations=15)\n",
    "    model.fit(G)\n",
    "    embeddings.append(model.get_embedding())\n",
    "    break"
   ]
  },
  {
   "cell_type": "code",
   "execution_count": 21,
   "id": "01cc493d",
   "metadata": {},
   "outputs": [],
   "source": [
    "import torch\n",
    "import torch.nn as nn\n",
    "import torch.functional as f"
   ]
  },
  {
   "cell_type": "code",
   "execution_count": 33,
   "id": "6d3ee05b",
   "metadata": {
    "scrolled": true
   },
   "outputs": [],
   "source": [
    "lr1 = nn.Linear(256,128)\n",
    "lr2 = nn.Linear(128,64)\n",
    "relu = nn.ReLU()\n",
    "sig = nn.Sigmoid()\n",
    "inputs = torch.from_numpy(embeddings[0]).float()\n",
    "output = lr2(relu(lr1(inputs)))"
   ]
  },
  {
   "cell_type": "code",
   "execution_count": 29,
   "id": "5cf550d0",
   "metadata": {},
   "outputs": [
    {
     "data": {
      "text/plain": [
       "(torch.Size([97, 256]), torch.Size([97, 64]))"
      ]
     },
     "execution_count": 29,
     "metadata": {},
     "output_type": "execute_result"
    }
   ],
   "source": [
    "inputs.shape, output.shape"
   ]
  },
  {
   "cell_type": "code",
   "execution_count": 52,
   "id": "ca2048b2",
   "metadata": {},
   "outputs": [
    {
     "data": {
      "text/plain": [
       "torch.Size([97, 97])"
      ]
     },
     "execution_count": 52,
     "metadata": {},
     "output_type": "execute_result"
    }
   ],
   "source": [
    "A_pred = torch.matmul(output, output.T)\n",
    "A_pred.shape"
   ]
  },
  {
   "cell_type": "code",
   "execution_count": 100,
   "id": "26994c86",
   "metadata": {},
   "outputs": [
    {
     "data": {
      "text/plain": [
       "tensor([[0.1951, 0.1952, 0.1953,  ..., 0.1969, 0.1961, 0.1919],\n",
       "        [0.1952, 0.1954, 0.1954,  ..., 0.1968, 0.1959, 0.1917],\n",
       "        [0.1953, 0.1954, 0.1957,  ..., 0.1973, 0.1964, 0.1923],\n",
       "        ...,\n",
       "        [0.1969, 0.1968, 0.1973,  ..., 0.2002, 0.1987, 0.1946],\n",
       "        [0.1961, 0.1959, 0.1964,  ..., 0.1987, 0.1984, 0.1938],\n",
       "        [0.1919, 0.1917, 0.1923,  ..., 0.1946, 0.1938, 0.1914]],\n",
       "       grad_fn=<MmBackward>)"
      ]
     },
     "execution_count": 100,
     "metadata": {},
     "output_type": "execute_result"
    }
   ],
   "source": [
    "A_pred"
   ]
  },
  {
   "cell_type": "code",
   "execution_count": 101,
   "id": "51f2e8ca",
   "metadata": {},
   "outputs": [
    {
     "data": {
      "text/plain": [
       "tensor([[1., 1., 0.,  ..., 0., 0., 0.],\n",
       "        [1., 1., 1.,  ..., 0., 0., 0.],\n",
       "        [0., 1., 1.,  ..., 0., 0., 0.],\n",
       "        ...,\n",
       "        [0., 0., 0.,  ..., 1., 0., 0.],\n",
       "        [0., 0., 0.,  ..., 0., 1., 0.],\n",
       "        [0., 0., 0.,  ..., 0., 0., 1.]], dtype=torch.float64)"
      ]
     },
     "execution_count": 101,
     "metadata": {},
     "output_type": "execute_result"
    }
   ],
   "source": [
    "A_ori = torch.from_numpy(nx.to_numpy_array(G))\n",
    "A_ori"
   ]
  },
  {
   "cell_type": "code",
   "execution_count": null,
   "id": "2f8b9562",
   "metadata": {},
   "outputs": [],
   "source": []
  },
  {
   "cell_type": "code",
   "execution_count": 79,
   "id": "645b071e",
   "metadata": {},
   "outputs": [],
   "source": [
    "bcrp = nn.BCELoss()"
   ]
  },
  {
   "cell_type": "code",
   "execution_count": 188,
   "id": "83e0412f",
   "metadata": {},
   "outputs": [],
   "source": [
    "from torch.utils.data import Dataset, DataLoader"
   ]
  },
  {
   "cell_type": "code",
   "execution_count": 203,
   "id": "24d88696",
   "metadata": {},
   "outputs": [],
   "source": [
    "class GraphDataset(Dataset):\n",
    "    def __init__(self, graph_dir, graph_files):\n",
    "        \n",
    "        # directory \n",
    "        self.graph_dir = graph_dir\n",
    "        \n",
    "        # all graph files\n",
    "        self.graph_files = graph_files        \n",
    "    \n",
    "    def __len__(self):\n",
    "        return len(self.graph_files)\n",
    "\n",
    "    def __getitem__(self, idx):\n",
    "        \n",
    "        # single graph\n",
    "        file = self.graph_files[idx]\n",
    "        \n",
    "        # graph paths\n",
    "        graph_path = os.path.join(self.graph_dir, 'original', file)\n",
    "        graph_del_path = os.path.join(self.graph_dir, 'deletion', file)\n",
    "        graph_ins_path = os.path.join(self.graph_dir, 'insertion', file)\n",
    "        \n",
    "        # load graph\n",
    "        graph = torch.from_numpy(nx.to_numpy_array(nx.read_gpickle(graph_path))).float().unsqueeze_(0)\n",
    "        graph_del = torch.from_numpy(nx.to_numpy_array(nx.read_gpickle(graph_del_path))).float().unsqueeze_(0)\n",
    "        graph_ins = torch.from_numpy(nx.to_numpy_array(nx.read_gpickle(graph_ins_path))).float().unsqueeze_(0)\n",
    "        \n",
    "        return graph, graph_del, graph_ins"
   ]
  },
  {
   "cell_type": "code",
   "execution_count": null,
   "id": "5f8daef7",
   "metadata": {},
   "outputs": [],
   "source": [
    "def collate_fn(data):\n",
    "    \"\"\"\n",
    "       data: is a list of tuples with (example, label, length)\n",
    "             where 'example' is a tensor of arbitrary shape\n",
    "             and label/length are scalars\n",
    "    \"\"\"\n",
    "    graph, graph_del, graph_ins = zip(*data)\n",
    "    max_len = max(lengths)\n",
    "    n_ftrs = data[0][0].size(1)\n",
    "    features = torch.zeros((len(data), max_len, n_ftrs))\n",
    "    labels = torch.tensor(labels)\n",
    "    lengths = torch.tensor(lengths)\n",
    "\n",
    "    for i in range(len(data)):\n",
    "        j, k = data[i][0].size(0), data[i][0].size(1)\n",
    "        features[i] = torch.cat([data[i][0], torch.zeros((max_len - j, k))])\n",
    "\n",
    "    return features.float(), labels.long(), lengths.long()"
   ]
  },
  {
   "cell_type": "code",
   "execution_count": 205,
   "id": "d91b3224",
   "metadata": {},
   "outputs": [],
   "source": [
    "a1,a2,a3 = graph.__getitem__(0)\n",
    "b1,b2,b3 = graph.__getitem__(1)\n",
    "c1,c2,c3 = graph.__getitem__(2)"
   ]
  },
  {
   "cell_type": "code",
   "execution_count": 206,
   "id": "c0eb67d0",
   "metadata": {},
   "outputs": [
    {
     "ename": "RuntimeError",
     "evalue": "stack expects each tensor to be equal size, but got [1, 97, 97] at entry 0 and [1, 55, 55] at entry 1",
     "output_type": "error",
     "traceback": [
      "\u001b[0;31m---------------------------------------------------------------------------\u001b[0m",
      "\u001b[0;31mRuntimeError\u001b[0m                              Traceback (most recent call last)",
      "Cell \u001b[0;32mIn[206], line 1\u001b[0m\n\u001b[0;32m----> 1\u001b[0m \u001b[43mtorch\u001b[49m\u001b[38;5;241;43m.\u001b[39;49m\u001b[43mstack\u001b[49m\u001b[43m(\u001b[49m\u001b[43m[\u001b[49m\u001b[43ma1\u001b[49m\u001b[43m,\u001b[49m\u001b[43mb1\u001b[49m\u001b[43m,\u001b[49m\u001b[43mc1\u001b[49m\u001b[43m]\u001b[49m\u001b[43m)\u001b[49m\n",
      "\u001b[0;31mRuntimeError\u001b[0m: stack expects each tensor to be equal size, but got [1, 97, 97] at entry 0 and [1, 55, 55] at entry 1"
     ]
    }
   ],
   "source": [
    "torch.([a1,b1,c1])"
   ]
  },
  {
   "cell_type": "code",
   "execution_count": null,
   "id": "40616068",
   "metadata": {},
   "outputs": [],
   "source": []
  },
  {
   "cell_type": "code",
   "execution_count": 204,
   "id": "c95be3a9",
   "metadata": {},
   "outputs": [],
   "source": [
    "graph= GraphDataset('../graph-data/seattle-graphs/', files)\n",
    "train_dataloader = DataLoader(graph, batch_size=10, shuffle=True)"
   ]
  },
  {
   "cell_type": "code",
   "execution_count": null,
   "id": "f10d9abf",
   "metadata": {},
   "outputs": [],
   "source": []
  }
 ],
 "metadata": {
  "kernelspec": {
   "display_name": "Python 3 (ipykernel)",
   "language": "python",
   "name": "python3"
  },
  "language_info": {
   "codemirror_mode": {
    "name": "ipython",
    "version": 3
   },
   "file_extension": ".py",
   "mimetype": "text/x-python",
   "name": "python",
   "nbconvert_exporter": "python",
   "pygments_lexer": "ipython3",
   "version": "3.8.8"
  }
 },
 "nbformat": 4,
 "nbformat_minor": 5
}
