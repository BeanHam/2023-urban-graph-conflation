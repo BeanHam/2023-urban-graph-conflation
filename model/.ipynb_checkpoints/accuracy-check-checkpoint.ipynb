{
 "cells": [
  {
   "cell_type": "code",
   "execution_count": 1,
   "id": "4e1cfe66",
   "metadata": {},
   "outputs": [],
   "source": [
    "import os\n",
    "import torch\n",
    "import numpy as np\n",
    "import networkx as nx\n",
    "import torch.nn as nn\n",
    "import torch.nn.functional as F\n",
    "\n",
    "from tqdm import tqdm\n",
    "from sklearn.model_selection import train_test_split\n",
    "from torch.utils.data import DataLoader\n",
    "from utils_simulated import *\n",
    "from model import *"
   ]
  },
  {
   "cell_type": "code",
   "execution_count": 2,
   "id": "632c837d",
   "metadata": {},
   "outputs": [
    {
     "name": "stdout",
     "output_type": "stream",
     "text": [
      "Load Datasets...\n",
      "Load Model...\n"
     ]
    }
   ],
   "source": [
    "# ---------------------\n",
    "# parameters\n",
    "# ---------------------\n",
    "lr = 1e-3\n",
    "epochs = 100\n",
    "batch_size = 1\n",
    "pos_weights = 5\n",
    "path = 'D:graph-conflation-data/'\n",
    "model = 'gcn'\n",
    "simulation = 'mixed'\n",
    "\n",
    "# ---------------------\n",
    "# load data\n",
    "# ---------------------\n",
    "print('Load Datasets...')\n",
    "files = os.listdir(path+f'simulated-graphs/{simulation}/gt/')\n",
    "train_files, test_files = train_test_split(files, test_size=0.2, random_state=42)\n",
    "train_files, val_files = train_test_split(train_files, test_size=0.2, random_state=42)\n",
    "\n",
    "# make datasets\n",
    "train_data = GraphDataset(path, simulation, train_files)\n",
    "val_data = GraphDataset(path, simulation, val_files)\n",
    "test_data = GraphDataset(path, simulation, test_files)\n",
    "\n",
    "# data loader\n",
    "train_dataloader = DataLoader(train_data, batch_size=batch_size, shuffle=False)\n",
    "val_dataloader = DataLoader(val_data, batch_size=batch_size, shuffle=False)\n",
    "test_dataloader = DataLoader(test_data, batch_size=batch_size, shuffle=False)  \n",
    "\n",
    "# ---------------------\n",
    "#  models\n",
    "# ---------------------\n",
    "print('Load Model...')\n",
    "device = torch.device(\"cuda\" if torch.cuda.is_available() else \"cpu\")\n",
    "if model == 'gcn':\n",
    "    model_set1 = GCN().to(device)\n",
    "    model_set2 = GCN().to(device)\n",
    "elif model == 'gat':\n",
    "    model_set1 = GAT().to(device)\n",
    "    model_set2 = GAT().to(device)\n",
    "elif model == 'graphsage':\n",
    "    model_set1 = GraphSAGE().to(device)\n",
    "    model_set2 = GraphSAGE().to(device)\n",
    "else:\n",
    "    model_set1 = GraphUNet(2,64,128,3).to(device)\n",
    "    model_set2 = GraphUNet(2,64,128,3).to(device)\n",
    "    \n",
    "if device == 'cpu':\n",
    "    model_set1.load_state_dict(torch.load(f'model_states/{model}_set1_{pos_weights}_{simulation}', map_location=device))\n",
    "    model_set2.load_state_dict(torch.load(f'model_states/{model}_set2_{pos_weights}_{simulation}', map_location=device))\n",
    "else:\n",
    "    model_set1.load_state_dict(torch.load(f'model_states/{model}_set1_{pos_weights}_{simulation}'))\n",
    "    model_set2.load_state_dict(torch.load(f'model_states/{model}_set2_{pos_weights}_{simulation}'))\n",
    "model_set1.eval()\n",
    "model_set2.eval()\n",
    "criterion= nn.BCEWithLogitsLoss(pos_weight=torch.tensor(pos_weights))"
   ]
  },
  {
   "cell_type": "markdown",
   "id": "2406619d",
   "metadata": {},
   "source": [
    "### Graph Level Accuracy"
   ]
  },
  {
   "cell_type": "code",
   "execution_count": 3,
   "id": "04a32585",
   "metadata": {
    "scrolled": true
   },
   "outputs": [
    {
     "name": "stderr",
     "output_type": "stream",
     "text": [
      "100%|██████████████████████████████████████████████████████████████████████████████| 1621/1621 [00:17<00:00, 92.64it/s]\n"
     ]
    }
   ],
   "source": [
    "graph_acc = []\n",
    "check = []\n",
    "torch.use_deterministic_algorithms(False)\n",
    "for i, batch in enumerate(tqdm(test_dataloader)):\n",
    "    \n",
    "    if i == 1591: continue\n",
    "    \n",
    "    # load data\n",
    "    graph_gt, graph_set1, graph_set2, gt_x, set1_x, set2_x = batch\n",
    "    graph_gt = graph_gt.squeeze_(0).to(device)\n",
    "    labels = graph_gt.flatten()\n",
    "    graph_set1 = graph_set1.squeeze_(0).long().to(device)\n",
    "    graph_set2 = graph_set2.squeeze_(0).long().to(device)\n",
    "    gt_x = gt_x.squeeze_(0).to(device)\n",
    "    set1_x = set1_x.squeeze_(0).to(device)\n",
    "    set2_x = set2_x.squeeze_(0).to(device)\n",
    "    \n",
    "    # make prediction\n",
    "    with torch.no_grad():\n",
    "        out_set1 = model_set1(set1_x, graph_set1)\n",
    "        out_set2 = model_set2(set2_x, graph_set2)\n",
    "    A = torch.sigmoid(torch.matmul(out_set1, out_set2.T)).flatten()\n",
    "    check.append(torch.mean(1.0*(A>0.5)).item())\n",
    "    graph_acc.append(torch.mean(1.0*( 1.0*(A.detach()>0.5) == labels)).item())"
   ]
  },
  {
   "cell_type": "code",
   "execution_count": 4,
   "id": "4caaa31e",
   "metadata": {},
   "outputs": [
    {
     "data": {
      "text/plain": [
       "(0.7959427811849265, 0.10473229003334303)"
      ]
     },
     "execution_count": 4,
     "metadata": {},
     "output_type": "execute_result"
    }
   ],
   "source": [
    "np.mean(graph_acc), np.mean(check)"
   ]
  },
  {
   "cell_type": "markdown",
   "id": "dadb0ed2",
   "metadata": {},
   "source": [
    "### Conflicted Edges Accuracy"
   ]
  },
  {
   "cell_type": "code",
   "execution_count": 5,
   "id": "ad742187",
   "metadata": {
    "scrolled": true
   },
   "outputs": [
    {
     "name": "stderr",
     "output_type": "stream",
     "text": [
      "100%|█████████████████████████████████████████████████████████████████████████████| 1621/1621 [00:11<00:00, 140.66it/s]\n"
     ]
    }
   ],
   "source": [
    "edge_acc = []\n",
    "for i, batch in enumerate(tqdm(test_dataloader)):\n",
    "    \n",
    "    if i == 1591: continue\n",
    "        \n",
    "    # load data\n",
    "    graph_gt, graph_set1, graph_set2, gt_x, set1_x, set2_x = batch\n",
    "    graph_gt = graph_gt.squeeze_(0).to(device)\n",
    "    labels = graph_gt.flatten()\n",
    "    graph_set1 = graph_set1.squeeze_(0).long().to(device)\n",
    "    graph_set2 = graph_set2.squeeze_(0).long().to(device)\n",
    "    gt_x = gt_x.squeeze_(0).to(device)\n",
    "    set1_x = set1_x.squeeze_(0).to(device)\n",
    "    set2_x = set2_x.squeeze_(0).to(device)\n",
    "    \n",
    "    # extract conflicted edges\n",
    "    conflicted_edges = torch.concatenate(\n",
    "        [graph_set1.T[~(graph_set1.T[:, None] == graph_set2.T).all(-1).any(-1)],\n",
    "         graph_set2.T[~(graph_set2.T[:, None] == graph_set1.T).all(-1).any(-1)]],\n",
    "        axis=0\n",
    "    ).cpu().detach().numpy()\n",
    "    conflicted_edges = np.repeat(conflicted_edges, 2,axis=0)\n",
    "    conflicted_edges[::2,[0,1]] = conflicted_edges[::2,[1,0]]\n",
    "    conflicted_edges = list(zip(*conflicted_edges.T))     \n",
    "    \n",
    "    # make prediction\n",
    "    with torch.no_grad():\n",
    "        out_set1 = model_set1(set1_x, graph_set1)\n",
    "        out_set2 = model_set2(set2_x, graph_set2)\n",
    "    A = torch.sigmoid(torch.matmul(out_set1, out_set2.T))\n",
    "    A_pred = 1.0*(A.detach().cpu()>0.5)\n",
    "    \n",
    "    if len(conflicted_edges) == 0:\n",
    "        edge_acc.append(torch.mean(1.0*(A_pred==graph_gt)).item())\n",
    "    else:\n",
    "        edge_acc.append(np.mean([1.0*(A_pred[c]==graph_gt[c]).item() for c in conflicted_edges]))"
   ]
  },
  {
   "cell_type": "code",
   "execution_count": 6,
   "id": "ba866b99",
   "metadata": {},
   "outputs": [
    {
     "data": {
      "text/plain": [
       "0.4492415510427837"
      ]
     },
     "execution_count": 6,
     "metadata": {},
     "output_type": "execute_result"
    }
   ],
   "source": [
    "np.mean(edge_acc)"
   ]
  }
 ],
 "metadata": {
  "kernelspec": {
   "display_name": "Python 3 (ipykernel)",
   "language": "python",
   "name": "python3"
  },
  "language_info": {
   "codemirror_mode": {
    "name": "ipython",
    "version": 3
   },
   "file_extension": ".py",
   "mimetype": "text/x-python",
   "name": "python",
   "nbconvert_exporter": "python",
   "pygments_lexer": "ipython3",
   "version": "3.9.13"
  }
 },
 "nbformat": 4,
 "nbformat_minor": 5
}
