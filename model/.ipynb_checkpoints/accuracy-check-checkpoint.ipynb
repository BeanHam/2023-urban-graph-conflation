{
 "cells": [
  {
   "cell_type": "code",
   "execution_count": 1,
   "id": "4e1cfe66",
   "metadata": {},
   "outputs": [],
   "source": [
    "import os\n",
    "import torch\n",
    "import numpy as np\n",
    "import networkx as nx\n",
    "import torch.nn as nn\n",
    "import torch.nn.functional as F\n",
    "\n",
    "from tqdm import tqdm\n",
    "from sklearn.model_selection import train_test_split\n",
    "from torch.utils.data import DataLoader\n",
    "from utils import *\n",
    "from model import *"
   ]
  },
  {
   "cell_type": "code",
   "execution_count": 2,
   "id": "632c837d",
   "metadata": {},
   "outputs": [
    {
     "name": "stdout",
     "output_type": "stream",
     "text": [
      "Load Datasets...\n",
      "Load Model...\n"
     ]
    }
   ],
   "source": [
    "# ---------------------\n",
    "# parameters\n",
    "# ---------------------\n",
    "lr = 1e-3\n",
    "epochs = 100\n",
    "batch_size = 1\n",
    "pos_weights=10\n",
    "path = 'D:graph-conflation-data/'\n",
    "\n",
    "# ---------------------\n",
    "# load data\n",
    "# ---------------------\n",
    "print('Load Datasets...')\n",
    "files = os.listdir(path+'/graphs/osm/')\n",
    "train_files, test_files = train_test_split(files, test_size=0.2, random_state=42)\n",
    "train_files, val_files = train_test_split(train_files, test_size=0.2, random_state=42)\n",
    "\n",
    "# make datasets\n",
    "train_data = GraphDataset(path, train_files)\n",
    "val_data = GraphDataset(path, val_files)\n",
    "test_data = GraphDataset(path, test_files)\n",
    "\n",
    "# data loader\n",
    "train_dataloader = DataLoader(train_data, batch_size=batch_size, shuffle=False)\n",
    "val_dataloader = DataLoader(val_data, batch_size=batch_size, shuffle=False)\n",
    "test_dataloader = DataLoader(test_data, batch_size=batch_size, shuffle=False)\n",
    "\n",
    "# ---------------------\n",
    "#  models\n",
    "# ---------------------\n",
    "print('Load Model...')\n",
    "device = torch.device(\"cuda\" if torch.cuda.is_available() else \"cpu\")\n",
    "model_osm = GCN().to(device)\n",
    "model_sdot = GCN().to(device)\n",
    "model_osm.load_state_dict(torch.load(f'model_states/model_osm_5'))\n",
    "model_sdot.load_state_dict(torch.load(f'model_states/model_sdot_5'))\n",
    "model_osm.eval()\n",
    "model_sdot.eval()\n",
    "criterion= nn.BCEWithLogitsLoss(pos_weight=torch.tensor(pos_weights))"
   ]
  },
  {
   "cell_type": "markdown",
   "id": "2406619d",
   "metadata": {},
   "source": [
    "### Graph Level Accuracy"
   ]
  },
  {
   "cell_type": "code",
   "execution_count": 3,
   "id": "04a32585",
   "metadata": {},
   "outputs": [
    {
     "name": "stderr",
     "output_type": "stream",
     "text": [
      "100%|█████████████████████████████████████████████████████████████████████████████| 1773/1773 [00:14<00:00, 118.41it/s]\n"
     ]
    }
   ],
   "source": [
    "graph_acc = []\n",
    "check = []\n",
    "for i, batch in enumerate(tqdm(test_dataloader)):\n",
    "    \n",
    "    # load data\n",
    "    graph_osw, graph_osm, graph_sdot, osw_x, osm_x, sdot_x = batch\n",
    "    graph_osw = graph_osw.squeeze_(0).to(device)\n",
    "    labels = graph_osw.flatten()\n",
    "    graph_osm = graph_osm.squeeze_(0).to(device)\n",
    "    graph_sdot = graph_sdot.squeeze_(0).to(device)    \n",
    "    osw_x = osw_x.squeeze_(0).to(device)\n",
    "    osm_x = osm_x.squeeze_(0).to(device)\n",
    "    sdot_x = sdot_x.squeeze_(0).to(device)\n",
    "    \n",
    "    # make prediction\n",
    "    with torch.no_grad():\n",
    "        out_osm = model_osm(graph_osm, osm_x)\n",
    "        out_sdot = model_sdot(graph_sdot, sdot_x)\n",
    "    A = F.sigmoid(torch.matmul(out_osm, out_sdot.T)).flatten()\n",
    "    check.append(torch.mean(1.0*(A>0.5)).item())\n",
    "    graph_acc.append(torch.mean(1.0*( 1.0*(A.detach()>0.5) == labels)).item())"
   ]
  },
  {
   "cell_type": "code",
   "execution_count": 4,
   "id": "d05a6c7f",
   "metadata": {},
   "outputs": [
    {
     "data": {
      "text/plain": [
       "0.8951421059663862"
      ]
     },
     "execution_count": 4,
     "metadata": {},
     "output_type": "execute_result"
    }
   ],
   "source": [
    "np.mean(graph_acc)"
   ]
  },
  {
   "cell_type": "markdown",
   "id": "dadb0ed2",
   "metadata": {},
   "source": [
    "### Conflicted Edges Accuracy"
   ]
  },
  {
   "cell_type": "code",
   "execution_count": 5,
   "id": "ad742187",
   "metadata": {},
   "outputs": [
    {
     "name": "stderr",
     "output_type": "stream",
     "text": [
      " 23%|█████████████████▊                                                            | 405/1773 [00:03<00:09, 141.98it/s]C:\\Users\\binha\\anaconda3\\lib\\site-packages\\numpy\\core\\fromnumeric.py:3440: RuntimeWarning: Mean of empty slice.\n",
      "  return _methods._mean(a, axis=axis, dtype=dtype,\n",
      "C:\\Users\\binha\\anaconda3\\lib\\site-packages\\numpy\\core\\_methods.py:189: RuntimeWarning: invalid value encountered in double_scalars\n",
      "  ret = ret.dtype.type(ret / rcount)\n",
      "100%|█████████████████████████████████████████████████████████████████████████████| 1773/1773 [00:13<00:00, 133.73it/s]\n"
     ]
    }
   ],
   "source": [
    "edge_acc = []\n",
    "for i, batch in enumerate(tqdm(test_dataloader)):\n",
    "    \n",
    "    # load data\n",
    "    graph_osw, graph_osm, graph_sdot, osw_x, osm_x, sdot_x = batch\n",
    "    graph_osw = graph_osw.squeeze_(0)\n",
    "    labels = graph_osw.flatten()\n",
    "    graph_osm = graph_osm.squeeze_(0).to(device)\n",
    "    graph_sdot = graph_sdot.squeeze_(0).to(device)    \n",
    "    osw_x = osw_x.squeeze_(0).to(device)\n",
    "    osm_x = osm_x.squeeze_(0).to(device)\n",
    "    sdot_x = sdot_x.squeeze_(0).to(device)\n",
    "    \n",
    "    # extract conflicted edges\n",
    "    conflicted_edges = torch.cat(\n",
    "        [graph_osm.T[~(graph_osm.T[:, None] == graph_sdot.T).all(-1).any(-1)],\n",
    "         graph_sdot.T[~(graph_sdot.T[:, None] == graph_osm.T).all(-1).any(-1)]],\n",
    "        axis=0\n",
    "    ).detach().cpu().numpy()\n",
    "    conflicted_edges = np.repeat(conflicted_edges, 2,axis=0)\n",
    "    conflicted_edges[::2,[0,1]] = conflicted_edges[::2,[1,0]]\n",
    "    conflicted_edges = list(zip(*conflicted_edges.T))\n",
    "    \n",
    "    # make prediction\n",
    "    with torch.no_grad():\n",
    "        out_osm = model_osm(graph_osm, osm_x)\n",
    "        out_sdot = model_sdot(graph_sdot, sdot_x)\n",
    "    A = F.sigmoid(torch.matmul(out_osm, out_sdot.T))\n",
    "    A_pred = 1.0*(A.detach().cpu()>0.5)\n",
    "    edge_acc.append(np.mean([1.0*(A_pred[c]==graph_osw[c]).item() for c in conflicted_edges]))"
   ]
  },
  {
   "cell_type": "code",
   "execution_count": 6,
   "id": "ba866b99",
   "metadata": {},
   "outputs": [
    {
     "data": {
      "text/plain": [
       "0.8341113078412254"
      ]
     },
     "execution_count": 6,
     "metadata": {},
     "output_type": "execute_result"
    }
   ],
   "source": [
    "## 5\n",
    "np.mean(np.array(edge_acc)[~np.isnan(edge_acc)])"
   ]
  }
 ],
 "metadata": {
  "kernelspec": {
   "display_name": "Python 3 (ipykernel)",
   "language": "python",
   "name": "python3"
  },
  "language_info": {
   "codemirror_mode": {
    "name": "ipython",
    "version": 3
   },
   "file_extension": ".py",
   "mimetype": "text/x-python",
   "name": "python",
   "nbconvert_exporter": "python",
   "pygments_lexer": "ipython3",
   "version": "3.9.13"
  }
 },
 "nbformat": 4,
 "nbformat_minor": 5
}
