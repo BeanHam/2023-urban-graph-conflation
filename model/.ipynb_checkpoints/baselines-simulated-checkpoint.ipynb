{
 "cells": [
  {
   "cell_type": "code",
   "execution_count": 1,
   "id": "58c86948",
   "metadata": {},
   "outputs": [],
   "source": [
    "import os\n",
    "import torch\n",
    "import numpy as np\n",
    "import networkx as nx\n",
    "import torch.nn as nn\n",
    "import torch.nn.functional as F\n",
    "\n",
    "from tqdm import tqdm\n",
    "from sklearn.model_selection import train_test_split\n",
    "from torch.utils.data import DataLoader\n",
    "from utils_simulated import *\n",
    "from model import *\n",
    "\n",
    "# ---------------------------\n",
    "# seeding for reproducibility\n",
    "# ---------------------------\n",
    "seed = 100\n",
    "np.random.seed(seed)\n",
    "torch.manual_seed(seed)\n",
    "torch.cuda.manual_seed(seed)\n",
    "torch.cuda.manual_seed_all(seed)\n",
    "torch.backends.cudnn.deterministic=True\n",
    "torch.use_deterministic_algorithms(True)\n",
    "# set CUBLAS_WORKSPACE_CONFIG=:16:8"
   ]
  },
  {
   "cell_type": "code",
   "execution_count": 12,
   "id": "da79f9b2",
   "metadata": {},
   "outputs": [
    {
     "name": "stdout",
     "output_type": "stream",
     "text": [
      "Load Datasets...\n"
     ]
    }
   ],
   "source": [
    "# ---------------------\n",
    "# parameters\n",
    "# ---------------------\n",
    "lr = 2e-3\n",
    "epochs = 100\n",
    "batch_size = 1\n",
    "pos_weights = 1\n",
    "path = 'D:/graph-conflation-data/'\n",
    "simulation = 'mixed'\n",
    "\n",
    "# ---------------------\n",
    "# load data\n",
    "# ---------------------\n",
    "print('Load Datasets...')\n",
    "files = os.listdir(path+f'/simulated-graphs/{simulation}/gt/')\n",
    "train_files, test_files = train_test_split(files, test_size=0.2, random_state=42)\n",
    "train_files, val_files = train_test_split(train_files, test_size=0.2, random_state=42)\n",
    "\n",
    "# make datasets\n",
    "train_data = GraphDataset(path, simulation, train_files)\n",
    "val_data = GraphDataset(path, simulation, val_files)\n",
    "test_data = GraphDataset(path, simulation, test_files)\n",
    "\n",
    "# data loader\n",
    "train_dataloader = DataLoader(train_data, batch_size=batch_size, shuffle=False)\n",
    "val_dataloader = DataLoader(val_data, batch_size=batch_size, shuffle=False)\n",
    "test_dataloader = DataLoader(test_data, batch_size=batch_size, shuffle=False) "
   ]
  },
  {
   "cell_type": "code",
   "execution_count": 13,
   "id": "934e3005",
   "metadata": {},
   "outputs": [
    {
     "name": "stderr",
     "output_type": "stream",
     "text": [
      "100%|████████████████████████████████████████████████████████████████████████████| 1621/1621 [00:01<00:00, 1236.49it/s]\n"
     ]
    }
   ],
   "source": [
    "graph_acc_union=[]\n",
    "graph_acc_intersection=[]\n",
    "graph_mean = []\n",
    "for file in tqdm(test_files):\n",
    "    \n",
    "    if file == 'graph_5103': continue\n",
    "    \n",
    "    # paths\n",
    "    gt_path = os.path.join(path, f'simulated-graphs/{simulation}/gt', file)\n",
    "    set1_path = os.path.join(path, f'simulated-graphs/{simulation}/set1', file)\n",
    "    set2_path = os.path.join(path, f'simulated-graphs/{simulation}/set2', file)\n",
    "    \n",
    "    # graphs & edges\n",
    "    graph_gt = nx.to_numpy_array(nx.read_graph6(gt_path))\n",
    "    graph_set1 = nx.to_numpy_array(nx.read_graph6(set1_path))\n",
    "    graph_set2 = nx.to_numpy_array(nx.read_graph6(set2_path))\n",
    "    \n",
    "    union = 1*np.logical_or(graph_set1, graph_set2)\n",
    "    intersection = 1*np.logical_and(graph_set1, graph_set2)\n",
    "    graph_acc_union.append(np.mean(1.0*( union == graph_gt)))  \n",
    "    graph_acc_intersection.append(np.mean(1.0*( intersection == graph_gt)))  "
   ]
  },
  {
   "cell_type": "code",
   "execution_count": 14,
   "id": "1cdc6dd2",
   "metadata": {},
   "outputs": [
    {
     "data": {
      "text/plain": [
       "(0.9554835857842671, 0.9555676643707968)"
      ]
     },
     "execution_count": 14,
     "metadata": {},
     "output_type": "execute_result"
    }
   ],
   "source": [
    "np.mean(graph_acc_union), np.mean(graph_acc_intersection)"
   ]
  },
  {
   "cell_type": "code",
   "execution_count": 15,
   "id": "1283fe9d",
   "metadata": {},
   "outputs": [
    {
     "name": "stderr",
     "output_type": "stream",
     "text": [
      "100%|█████████████████████████████████████████████████████████████████████████████| 1621/1621 [00:02<00:00, 710.96it/s]\n"
     ]
    }
   ],
   "source": [
    "edge_acc_union = []\n",
    "edge_acc_intersection = []\n",
    "for file in tqdm(test_files):\n",
    "    \n",
    "    if file == 'graph_5103': continue\n",
    "        \n",
    "    # paths\n",
    "    gt_path = os.path.join(path, f'simulated-graphs/{simulation}/gt', file)\n",
    "    set1_path = os.path.join(path, f'simulated-graphs/{simulation}/set1', file)\n",
    "    set2_path = os.path.join(path, f'simulated-graphs/{simulation}/set2', file)\n",
    "    \n",
    "    # graphs & edges\n",
    "    graph_gt = nx.to_numpy_array(nx.read_graph6(gt_path))\n",
    "    graph_set1 = nx.to_numpy_array(nx.read_graph6(set1_path))\n",
    "    graph_set2 = nx.to_numpy_array(nx.read_graph6(set2_path))\n",
    "    graph_set1_edges = np.array(nx.read_graph6(set1_path).edges()).T\n",
    "    graph_set2_edges = np.array(nx.read_graph6(set2_path).edges()).T\n",
    "    \n",
    "    # extract conflicted edges\n",
    "    conflicted_edges = np.concatenate(\n",
    "        [graph_set1_edges.T[~(graph_set1_edges.T[:, None] == graph_set2_edges.T).all(-1).any(-1)],\n",
    "         graph_set2_edges.T[~(graph_set2_edges.T[:, None] == graph_set1_edges.T).all(-1).any(-1)]],\n",
    "        axis=0\n",
    "    )\n",
    "    conflicted_edges = np.repeat(conflicted_edges, 2,axis=0)\n",
    "    conflicted_edges[::2,[0,1]] = conflicted_edges[::2,[1,0]]\n",
    "    conflicted_edges = list(zip(*conflicted_edges.T))  \n",
    "    \n",
    "    # union & intersection\n",
    "    union = 1*np.logical_or(graph_set1, graph_set2)\n",
    "    intersection = 1*np.logical_and(graph_set1,graph_set2)\n",
    "    \n",
    "    if len(conflicted_edges) == 0:\n",
    "        edge_acc_intersection.append(np.mean([1.0*(intersection==graph_gt)]))\n",
    "        edge_acc_union.append(np.mean([1.0*(union==graph_gt)]))    \n",
    "    else:\n",
    "        edge_acc_intersection.append(np.mean([1.0*(intersection[c]==graph_gt[c]) for c in conflicted_edges]))\n",
    "        edge_acc_union.append(np.mean([1.0*(union[c]==graph_gt[c]) for c in conflicted_edges]))"
   ]
  },
  {
   "cell_type": "code",
   "execution_count": 17,
   "id": "cb87a918",
   "metadata": {},
   "outputs": [
    {
     "data": {
      "text/plain": [
       "(0.5005053504124852, 0.4994946495875148)"
      ]
     },
     "execution_count": 17,
     "metadata": {},
     "output_type": "execute_result"
    }
   ],
   "source": [
    "np.mean(edge_acc_intersection), np.mean(edge_acc_union)"
   ]
  }
 ],
 "metadata": {
  "kernelspec": {
   "display_name": "Python 3 (ipykernel)",
   "language": "python",
   "name": "python3"
  },
  "language_info": {
   "codemirror_mode": {
    "name": "ipython",
    "version": 3
   },
   "file_extension": ".py",
   "mimetype": "text/x-python",
   "name": "python",
   "nbconvert_exporter": "python",
   "pygments_lexer": "ipython3",
   "version": "3.9.13"
  }
 },
 "nbformat": 4,
 "nbformat_minor": 5
}
