{
 "cells": [
  {
   "cell_type": "code",
   "execution_count": 1,
   "id": "58c86948",
   "metadata": {},
   "outputs": [],
   "source": [
    "import os\n",
    "import torch\n",
    "import numpy as np\n",
    "import networkx as nx\n",
    "import torch.nn as nn\n",
    "import torch.nn.functional as F\n",
    "\n",
    "from tqdm import tqdm\n",
    "from sklearn.model_selection import train_test_split\n",
    "from torch.utils.data import DataLoader\n",
    "from utils import *\n",
    "from model import *\n",
    "\n",
    "seed=816\n",
    "np.random.seed(seed)\n",
    "torch.manual_seed(seed)\n",
    "torch.cuda.manual_seed(seed)\n",
    "torch.cuda.manual_seed_all(seed)"
   ]
  },
  {
   "cell_type": "code",
   "execution_count": 2,
   "id": "da79f9b2",
   "metadata": {},
   "outputs": [
    {
     "name": "stdout",
     "output_type": "stream",
     "text": [
      "Load Datasets...\n"
     ]
    }
   ],
   "source": [
    "# ---------------------\n",
    "# parameters\n",
    "# ---------------------\n",
    "lr = 2e-3\n",
    "epochs = 100\n",
    "batch_size = 1\n",
    "pos_weights = 1\n",
    "path = 'D:/graph-conflation-data/'\n",
    "\n",
    "# ---------------------\n",
    "# load data\n",
    "# ---------------------\n",
    "print('Load Datasets...')\n",
    "files = os.listdir(path+'/graphs/osm/')\n",
    "train_files, test_files = train_test_split(files, test_size=0.2, random_state=42)\n",
    "train_files, val_files = train_test_split(train_files, test_size=0.2, random_state=42)\n",
    "\n",
    "# make datasets\n",
    "train_data = GraphDataset(path, train_files)\n",
    "val_data = GraphDataset(path, val_files)\n",
    "test_data = GraphDataset(path, test_files)\n",
    "\n",
    "# data loader\n",
    "train_dataloader = DataLoader(train_data, batch_size=batch_size, shuffle=False)\n",
    "val_dataloader = DataLoader(val_data, batch_size=batch_size, shuffle=False)\n",
    "test_dataloader = DataLoader(test_data, batch_size=batch_size, shuffle=False) "
   ]
  },
  {
   "cell_type": "code",
   "execution_count": 3,
   "id": "934e3005",
   "metadata": {},
   "outputs": [
    {
     "name": "stderr",
     "output_type": "stream",
     "text": [
      "100%|█████████████████████████████████████████████████████████████████████████████| 1773/1773 [00:02<00:00, 775.39it/s]\n"
     ]
    }
   ],
   "source": [
    "graph_acc_intersection = []\n",
    "graph_acc_union = []\n",
    "for file in tqdm(test_files):\n",
    "    # paths\n",
    "    osw_path = os.path.join(path, 'graphs/osw/', file)\n",
    "    osm_path = os.path.join(path, 'graphs/osm/', file)\n",
    "    sdot_path = os.path.join(path, 'graphs/sdot/', file)\n",
    "    \n",
    "    # graphs & edges\n",
    "    graph_osw = nx.to_numpy_array(nx.read_graph6(osw_path))\n",
    "    graph_osm = nx.to_numpy_array(nx.read_graph6(osm_path))\n",
    "    graph_sdot = nx.to_numpy_array(nx.read_graph6(sdot_path))\n",
    "    union = 1*np.logical_or(graph_osm,graph_sdot)\n",
    "    intersection = 1*np.logical_and(graph_osm,graph_sdot)\n",
    "    graph_acc_union.append(np.mean(1.0*( union == graph_osw)))    \n",
    "    graph_acc_intersection.append(np.mean(1.0*( intersection == graph_osw)))"
   ]
  },
  {
   "cell_type": "code",
   "execution_count": 4,
   "id": "57760292",
   "metadata": {},
   "outputs": [
    {
     "data": {
      "text/plain": [
       "(0.8965330700741877, 0.8446568998296642)"
      ]
     },
     "execution_count": 4,
     "metadata": {},
     "output_type": "execute_result"
    }
   ],
   "source": [
    "np.mean(graph_acc_intersection), np.mean(graph_acc_union)"
   ]
  },
  {
   "cell_type": "code",
   "execution_count": 5,
   "id": "1283fe9d",
   "metadata": {},
   "outputs": [
    {
     "name": "stderr",
     "output_type": "stream",
     "text": [
      " 22%|████████████████▊                                                             | 382/1773 [00:00<00:01, 736.07it/s]C:\\Users\\binha\\anaconda3\\lib\\site-packages\\numpy\\core\\fromnumeric.py:3440: RuntimeWarning: Mean of empty slice.\n",
      "  return _methods._mean(a, axis=axis, dtype=dtype,\n",
      "C:\\Users\\binha\\anaconda3\\lib\\site-packages\\numpy\\core\\_methods.py:189: RuntimeWarning: invalid value encountered in double_scalars\n",
      "  ret = ret.dtype.type(ret / rcount)\n",
      "100%|█████████████████████████████████████████████████████████████████████████████| 1773/1773 [00:02<00:00, 664.31it/s]\n"
     ]
    }
   ],
   "source": [
    "edge_acc_intersection = []\n",
    "edge_acc_union = []\n",
    "for file in tqdm(test_files):\n",
    "    # paths\n",
    "    osw_path = os.path.join(path, 'graphs/osw/', file)\n",
    "    osm_path = os.path.join(path, 'graphs/osm/', file)\n",
    "    sdot_path = os.path.join(path, 'graphs/sdot/', file)\n",
    "    \n",
    "    # graphs & edges\n",
    "    graph_osw = nx.to_numpy_array(nx.read_graph6(osw_path))\n",
    "    graph_osm = nx.to_numpy_array(nx.read_graph6(osm_path))\n",
    "    graph_sdot = nx.to_numpy_array(nx.read_graph6(sdot_path))    \n",
    "    graph_osm_edges = np.array(nx.read_graph6(osm_path).edges()).T\n",
    "    graph_sdot_edges = np.array(nx.read_graph6(sdot_path).edges()).T\n",
    "    \n",
    "    # extract conflicted edges\n",
    "    conflicted_edges = np.concatenate(\n",
    "        [graph_osm_edges.T[~(graph_osm_edges.T[:, None] == graph_sdot_edges.T).all(-1).any(-1)],\n",
    "         graph_sdot_edges.T[~(graph_sdot_edges.T[:, None] == graph_osm_edges.T).all(-1).any(-1)]],\n",
    "        axis=0\n",
    "    )\n",
    "    conflicted_edges = np.repeat(conflicted_edges, 2,axis=0)\n",
    "    conflicted_edges[::2,[0,1]] = conflicted_edges[::2,[1,0]]\n",
    "    conflicted_edges = list(zip(*conflicted_edges.T))  \n",
    "    \n",
    "    \n",
    "    union = 1*np.logical_or(graph_osm,graph_sdot)\n",
    "    intersection = 1*np.logical_and(graph_osm,graph_sdot)\n",
    "    \n",
    "    edge_acc_intersection.append(np.mean([1.0*(intersection[c]==graph_osw[c]) for c in conflicted_edges]))\n",
    "    edge_acc_union.append(np.mean([1.0*(union[c]==graph_osw[c]) for c in conflicted_edges]))"
   ]
  },
  {
   "cell_type": "code",
   "execution_count": 6,
   "id": "cb87a918",
   "metadata": {},
   "outputs": [
    {
     "data": {
      "text/plain": [
       "0.8349301370819641"
      ]
     },
     "execution_count": 6,
     "metadata": {},
     "output_type": "execute_result"
    }
   ],
   "source": [
    "## 5\n",
    "np.mean(np.array(edge_acc_intersection)[~np.isnan(edge_acc_intersection)])"
   ]
  }
 ],
 "metadata": {
  "kernelspec": {
   "display_name": "Python 3 (ipykernel)",
   "language": "python",
   "name": "python3"
  },
  "language_info": {
   "codemirror_mode": {
    "name": "ipython",
    "version": 3
   },
   "file_extension": ".py",
   "mimetype": "text/x-python",
   "name": "python",
   "nbconvert_exporter": "python",
   "pygments_lexer": "ipython3",
   "version": "3.9.13"
  }
 },
 "nbformat": 4,
 "nbformat_minor": 5
}
